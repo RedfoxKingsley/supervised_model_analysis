{
 "cells": [
  {
   "cell_type": "code",
   "execution_count": 16,
   "metadata": {},
   "outputs": [],
   "source": [
    "import pandas as pd\n",
    "import numpy as np\n",
    "import matplotlib.pyplot as plt\n",
    "import subprocess\n",
    "import seaborn as sns\n",
    "from sklearn.model_selection import train_test_split, cross_val_score, cross_val_predict\n",
    "from itertools import cycle\n",
    "from sklearn import ensemble\n",
    "import time\n",
    "\n",
    "from sklearn.metrics import classification_report\n",
    "from sklearn.metrics import confusion_matrix\n",
    "from sklearn import svm, datasets\n",
    "from sklearn.metrics import roc_curve, auc\n",
    "from sklearn.model_selection import train_test_split\n",
    "from sklearn.preprocessing import label_binarize\n",
    "from sklearn.multiclass import OneVsRestClassifier\n",
    "from sklearn.svm import LinearSVC\n",
    "from scipy import interp\n",
    "import statsmodels.api as sm\n",
    "from sklearn.metrics import recall_score\n",
    "\n",
    "from sklearn.model_selection import ShuffleSplit\n",
    "from sklearn.utils import resample\n",
    "from sklearn.preprocessing import MinMaxScaler\n",
    "\n",
    "%matplotlib inline\n",
    "\n",
    "import warnings\n",
    "warnings.filterwarnings(\"ignore\")"
   ]
  },
  {
   "cell_type": "code",
   "execution_count": 2,
   "metadata": {},
   "outputs": [
    {
     "data": {
      "text/html": [
       "<div>\n",
       "<style scoped>\n",
       "    .dataframe tbody tr th:only-of-type {\n",
       "        vertical-align: middle;\n",
       "    }\n",
       "\n",
       "    .dataframe tbody tr th {\n",
       "        vertical-align: top;\n",
       "    }\n",
       "\n",
       "    .dataframe thead th {\n",
       "        text-align: right;\n",
       "    }\n",
       "</style>\n",
       "<table border=\"1\" class=\"dataframe\">\n",
       "  <thead>\n",
       "    <tr style=\"text-align: right;\">\n",
       "      <th></th>\n",
       "      <th>LB</th>\n",
       "      <th>AC</th>\n",
       "      <th>FM</th>\n",
       "      <th>UC</th>\n",
       "      <th>DL</th>\n",
       "      <th>DS</th>\n",
       "      <th>DP</th>\n",
       "      <th>ASTV</th>\n",
       "      <th>MSTV</th>\n",
       "      <th>ALTV</th>\n",
       "      <th>...</th>\n",
       "      <th>Min</th>\n",
       "      <th>Max</th>\n",
       "      <th>Nmax</th>\n",
       "      <th>Nzeros</th>\n",
       "      <th>Mode</th>\n",
       "      <th>Mean</th>\n",
       "      <th>Median</th>\n",
       "      <th>Variance</th>\n",
       "      <th>Tendency</th>\n",
       "      <th>NSP</th>\n",
       "    </tr>\n",
       "  </thead>\n",
       "  <tbody>\n",
       "    <tr>\n",
       "      <th>0</th>\n",
       "      <td>120.0</td>\n",
       "      <td>0.000</td>\n",
       "      <td>0.0</td>\n",
       "      <td>0.000</td>\n",
       "      <td>0.000</td>\n",
       "      <td>0.0</td>\n",
       "      <td>0.0</td>\n",
       "      <td>73.0</td>\n",
       "      <td>0.5</td>\n",
       "      <td>43.0</td>\n",
       "      <td>...</td>\n",
       "      <td>62.0</td>\n",
       "      <td>126.0</td>\n",
       "      <td>2.0</td>\n",
       "      <td>0.0</td>\n",
       "      <td>120.0</td>\n",
       "      <td>137.0</td>\n",
       "      <td>121.0</td>\n",
       "      <td>73.0</td>\n",
       "      <td>1.0</td>\n",
       "      <td>2.0</td>\n",
       "    </tr>\n",
       "    <tr>\n",
       "      <th>1</th>\n",
       "      <td>132.0</td>\n",
       "      <td>0.006</td>\n",
       "      <td>0.0</td>\n",
       "      <td>0.006</td>\n",
       "      <td>0.003</td>\n",
       "      <td>0.0</td>\n",
       "      <td>0.0</td>\n",
       "      <td>17.0</td>\n",
       "      <td>2.1</td>\n",
       "      <td>0.0</td>\n",
       "      <td>...</td>\n",
       "      <td>68.0</td>\n",
       "      <td>198.0</td>\n",
       "      <td>6.0</td>\n",
       "      <td>1.0</td>\n",
       "      <td>141.0</td>\n",
       "      <td>136.0</td>\n",
       "      <td>140.0</td>\n",
       "      <td>12.0</td>\n",
       "      <td>0.0</td>\n",
       "      <td>1.0</td>\n",
       "    </tr>\n",
       "    <tr>\n",
       "      <th>2</th>\n",
       "      <td>133.0</td>\n",
       "      <td>0.003</td>\n",
       "      <td>0.0</td>\n",
       "      <td>0.008</td>\n",
       "      <td>0.003</td>\n",
       "      <td>0.0</td>\n",
       "      <td>0.0</td>\n",
       "      <td>16.0</td>\n",
       "      <td>2.1</td>\n",
       "      <td>0.0</td>\n",
       "      <td>...</td>\n",
       "      <td>68.0</td>\n",
       "      <td>198.0</td>\n",
       "      <td>5.0</td>\n",
       "      <td>1.0</td>\n",
       "      <td>141.0</td>\n",
       "      <td>135.0</td>\n",
       "      <td>138.0</td>\n",
       "      <td>13.0</td>\n",
       "      <td>0.0</td>\n",
       "      <td>1.0</td>\n",
       "    </tr>\n",
       "    <tr>\n",
       "      <th>3</th>\n",
       "      <td>134.0</td>\n",
       "      <td>0.003</td>\n",
       "      <td>0.0</td>\n",
       "      <td>0.008</td>\n",
       "      <td>0.003</td>\n",
       "      <td>0.0</td>\n",
       "      <td>0.0</td>\n",
       "      <td>16.0</td>\n",
       "      <td>2.4</td>\n",
       "      <td>0.0</td>\n",
       "      <td>...</td>\n",
       "      <td>53.0</td>\n",
       "      <td>170.0</td>\n",
       "      <td>11.0</td>\n",
       "      <td>0.0</td>\n",
       "      <td>137.0</td>\n",
       "      <td>134.0</td>\n",
       "      <td>137.0</td>\n",
       "      <td>13.0</td>\n",
       "      <td>1.0</td>\n",
       "      <td>1.0</td>\n",
       "    </tr>\n",
       "    <tr>\n",
       "      <th>4</th>\n",
       "      <td>132.0</td>\n",
       "      <td>0.007</td>\n",
       "      <td>0.0</td>\n",
       "      <td>0.008</td>\n",
       "      <td>0.000</td>\n",
       "      <td>0.0</td>\n",
       "      <td>0.0</td>\n",
       "      <td>16.0</td>\n",
       "      <td>2.4</td>\n",
       "      <td>0.0</td>\n",
       "      <td>...</td>\n",
       "      <td>53.0</td>\n",
       "      <td>170.0</td>\n",
       "      <td>9.0</td>\n",
       "      <td>0.0</td>\n",
       "      <td>137.0</td>\n",
       "      <td>136.0</td>\n",
       "      <td>138.0</td>\n",
       "      <td>11.0</td>\n",
       "      <td>1.0</td>\n",
       "      <td>1.0</td>\n",
       "    </tr>\n",
       "  </tbody>\n",
       "</table>\n",
       "<p>5 rows × 22 columns</p>\n",
       "</div>"
      ],
      "text/plain": [
       "      LB     AC   FM     UC     DL   DS   DP  ASTV  MSTV  ALTV ...    Min  \\\n",
       "0  120.0  0.000  0.0  0.000  0.000  0.0  0.0  73.0   0.5  43.0 ...   62.0   \n",
       "1  132.0  0.006  0.0  0.006  0.003  0.0  0.0  17.0   2.1   0.0 ...   68.0   \n",
       "2  133.0  0.003  0.0  0.008  0.003  0.0  0.0  16.0   2.1   0.0 ...   68.0   \n",
       "3  134.0  0.003  0.0  0.008  0.003  0.0  0.0  16.0   2.4   0.0 ...   53.0   \n",
       "4  132.0  0.007  0.0  0.008  0.000  0.0  0.0  16.0   2.4   0.0 ...   53.0   \n",
       "\n",
       "     Max  Nmax  Nzeros   Mode   Mean  Median  Variance  Tendency  NSP  \n",
       "0  126.0   2.0     0.0  120.0  137.0   121.0      73.0       1.0  2.0  \n",
       "1  198.0   6.0     1.0  141.0  136.0   140.0      12.0       0.0  1.0  \n",
       "2  198.0   5.0     1.0  141.0  135.0   138.0      13.0       0.0  1.0  \n",
       "3  170.0  11.0     0.0  137.0  134.0   137.0      13.0       1.0  1.0  \n",
       "4  170.0   9.0     0.0  137.0  136.0   138.0      11.0       1.0  1.0  \n",
       "\n",
       "[5 rows x 22 columns]"
      ]
     },
     "execution_count": 2,
     "metadata": {},
     "output_type": "execute_result"
    }
   ],
   "source": [
    "df_cardio = pd.read_csv('Cardiotocography.csv', sep=',')\n",
    "\n",
    "df_cardio.head()"
   ]
  },
  {
   "cell_type": "code",
   "execution_count": 3,
   "metadata": {},
   "outputs": [
    {
     "data": {
      "text/html": [
       "<div>\n",
       "<style scoped>\n",
       "    .dataframe tbody tr th:only-of-type {\n",
       "        vertical-align: middle;\n",
       "    }\n",
       "\n",
       "    .dataframe tbody tr th {\n",
       "        vertical-align: top;\n",
       "    }\n",
       "\n",
       "    .dataframe thead th {\n",
       "        text-align: right;\n",
       "    }\n",
       "</style>\n",
       "<table border=\"1\" class=\"dataframe\">\n",
       "  <thead>\n",
       "    <tr style=\"text-align: right;\">\n",
       "      <th></th>\n",
       "      <th>LB</th>\n",
       "      <th>AC</th>\n",
       "      <th>FM</th>\n",
       "      <th>UC</th>\n",
       "      <th>DL</th>\n",
       "      <th>DS</th>\n",
       "      <th>DP</th>\n",
       "      <th>ASTV</th>\n",
       "      <th>MSTV</th>\n",
       "      <th>ALTV</th>\n",
       "      <th>...</th>\n",
       "      <th>Min</th>\n",
       "      <th>Max</th>\n",
       "      <th>Nmax</th>\n",
       "      <th>Nzeros</th>\n",
       "      <th>Mode</th>\n",
       "      <th>Mean</th>\n",
       "      <th>Median</th>\n",
       "      <th>Variance</th>\n",
       "      <th>Tendency</th>\n",
       "      <th>NSP</th>\n",
       "    </tr>\n",
       "  </thead>\n",
       "  <tbody>\n",
       "    <tr>\n",
       "      <th>2126</th>\n",
       "      <td>NaN</td>\n",
       "      <td>NaN</td>\n",
       "      <td>NaN</td>\n",
       "      <td>NaN</td>\n",
       "      <td>NaN</td>\n",
       "      <td>NaN</td>\n",
       "      <td>NaN</td>\n",
       "      <td>NaN</td>\n",
       "      <td>NaN</td>\n",
       "      <td>NaN</td>\n",
       "      <td>...</td>\n",
       "      <td>NaN</td>\n",
       "      <td>NaN</td>\n",
       "      <td>NaN</td>\n",
       "      <td>NaN</td>\n",
       "      <td>NaN</td>\n",
       "      <td>NaN</td>\n",
       "      <td>NaN</td>\n",
       "      <td>NaN</td>\n",
       "      <td>NaN</td>\n",
       "      <td>NaN</td>\n",
       "    </tr>\n",
       "    <tr>\n",
       "      <th>2127</th>\n",
       "      <td>NaN</td>\n",
       "      <td>NaN</td>\n",
       "      <td>NaN</td>\n",
       "      <td>NaN</td>\n",
       "      <td>0.000</td>\n",
       "      <td>0.000</td>\n",
       "      <td>0.000</td>\n",
       "      <td>NaN</td>\n",
       "      <td>NaN</td>\n",
       "      <td>NaN</td>\n",
       "      <td>...</td>\n",
       "      <td>NaN</td>\n",
       "      <td>NaN</td>\n",
       "      <td>NaN</td>\n",
       "      <td>NaN</td>\n",
       "      <td>NaN</td>\n",
       "      <td>NaN</td>\n",
       "      <td>NaN</td>\n",
       "      <td>NaN</td>\n",
       "      <td>NaN</td>\n",
       "      <td>NaN</td>\n",
       "    </tr>\n",
       "    <tr>\n",
       "      <th>2128</th>\n",
       "      <td>NaN</td>\n",
       "      <td>NaN</td>\n",
       "      <td>0.481</td>\n",
       "      <td>0.015</td>\n",
       "      <td>0.015</td>\n",
       "      <td>0.001</td>\n",
       "      <td>0.005</td>\n",
       "      <td>87.0</td>\n",
       "      <td>7.0</td>\n",
       "      <td>91.0</td>\n",
       "      <td>...</td>\n",
       "      <td>NaN</td>\n",
       "      <td>NaN</td>\n",
       "      <td>NaN</td>\n",
       "      <td>NaN</td>\n",
       "      <td>NaN</td>\n",
       "      <td>NaN</td>\n",
       "      <td>NaN</td>\n",
       "      <td>NaN</td>\n",
       "      <td>NaN</td>\n",
       "      <td>NaN</td>\n",
       "    </tr>\n",
       "  </tbody>\n",
       "</table>\n",
       "<p>3 rows × 22 columns</p>\n",
       "</div>"
      ],
      "text/plain": [
       "      LB  AC     FM     UC     DL     DS     DP  ASTV  MSTV  ALTV ...   Min  \\\n",
       "2126 NaN NaN    NaN    NaN    NaN    NaN    NaN   NaN   NaN   NaN ...   NaN   \n",
       "2127 NaN NaN    NaN    NaN  0.000  0.000  0.000   NaN   NaN   NaN ...   NaN   \n",
       "2128 NaN NaN  0.481  0.015  0.015  0.001  0.005  87.0   7.0  91.0 ...   NaN   \n",
       "\n",
       "      Max  Nmax  Nzeros  Mode  Mean  Median  Variance  Tendency  NSP  \n",
       "2126  NaN   NaN     NaN   NaN   NaN     NaN       NaN       NaN  NaN  \n",
       "2127  NaN   NaN     NaN   NaN   NaN     NaN       NaN       NaN  NaN  \n",
       "2128  NaN   NaN     NaN   NaN   NaN     NaN       NaN       NaN  NaN  \n",
       "\n",
       "[3 rows x 22 columns]"
      ]
     },
     "execution_count": 3,
     "metadata": {},
     "output_type": "execute_result"
    }
   ],
   "source": [
    "null_data = df_cardio[df_cardio.isnull().any(axis=1)]\n",
    "null_data"
   ]
  },
  {
   "cell_type": "code",
   "execution_count": 4,
   "metadata": {},
   "outputs": [],
   "source": [
    "df_cardio = df_cardio.dropna()"
   ]
  },
  {
   "cell_type": "code",
   "execution_count": 5,
   "metadata": {},
   "outputs": [],
   "source": [
    "df_cardio = df_cardio.drop(['Min','Mean','Mode'], axis=1)"
   ]
  },
  {
   "cell_type": "code",
   "execution_count": 6,
   "metadata": {},
   "outputs": [
    {
     "data": {
      "image/png": "[encoded data removed]",
      "text/plain": [
       "<Figure size 432x288 with 1 Axes>"
      ]
     },
     "metadata": {
      "needs_background": "light"
     },
     "output_type": "display_data"
    }
   ],
   "source": [
    "df_cardio['NSP'].value_counts()[:].plot(kind='barh')\n",
    "plt.title('NSP',fontsize=20)\n",
    "plt.xlabel('Observation Count',fontsize=15)\n",
    "plt.ylabel('Class',fontsize=15)\n",
    "plt.savefig('target__distribution.png')"
   ]
  },
  {
   "cell_type": "markdown",
   "metadata": {},
   "source": [
    "## Train-Validation Split"
   ]
  },
  {
   "cell_type": "code",
   "execution_count": 32,
   "metadata": {},
   "outputs": [],
   "source": [
    "y = df_cardio['NSP']\n",
    "X = df_cardio.drop('NSP',axis=1)\n",
    "\n",
    "X_train, X_test, y_train, y_test = train_test_split(X, y, test_size = 0.2, random_state = 465) "
   ]
  },
  {
   "cell_type": "markdown",
   "metadata": {},
   "source": [
    "## Train-Test Split"
   ]
  },
  {
   "cell_type": "code",
   "execution_count": 33,
   "metadata": {},
   "outputs": [],
   "source": [
    "X_train_sub, X_test_sub, y_train_sub, y_test_sub = train_test_split(X_train, y_train, test_size = 0.2, random_state = 465) \n"
   ]
  },
  {
   "cell_type": "markdown",
   "metadata": {},
   "source": [
    "## Baseline SVC Model"
   ]
  },
  {
   "cell_type": "code",
   "execution_count": 34,
   "metadata": {},
   "outputs": [
    {
     "name": "stdout",
     "output_type": "stream",
     "text": [
      "Accuracy of SVC on test set: 0.817\n",
      "\n",
      "Cross validation score: 0.7961\n",
      "\n",
      "Recall score: 0.8169014084507042\n",
      "\n",
      "--- 0.5989320278167725 seconds ---\n"
     ]
    }
   ],
   "source": [
    "from sklearn.svm import SVC\n",
    "\n",
    "start_time = time.time()\n",
    "\n",
    "svc = SVC()\n",
    "svc.fit(X_train, y_train)\n",
    "\n",
    "y_pred_svc = svc.predict(X_test)\n",
    "print('Accuracy of SVC on test set: {:.3f}\\n'.format(svc.score(X_test, y_test)))\n",
    "\n",
    "print('Cross validation score: {:.4f}\\n'.format(cross_val_score(svc, X_test_sub, y_test_sub, cv=20).mean()))\n",
    "\n",
    "print('Recall score: {}\\n'.format(recall_score(y_test, y_pred_svc, average = 'micro')))\n",
    "\n",
    "print(\"--- %s seconds ---\" % (time.time() - start_time))"
   ]
  },
  {
   "cell_type": "code",
   "execution_count": 45,
   "metadata": {},
   "outputs": [
    {
     "name": "stdout",
     "output_type": "stream",
     "text": [
      "Average AUC score: 0.9446340158365487\n"
     ]
    }
   ],
   "source": [
    "# Binarize the output\n",
    "y = label_binarize(y, classes=[1, 2, 3])\n",
    "n_classes = 3\n",
    "\n",
    "X_train, X_test, y_train, y_test = train_test_split(X, y, test_size=.2, random_state=0)\n",
    "\n",
    "X_train_sub, X_test_sub, y_train_sub, y_test_sub = train_test_split(X_train, y_train, test_size = 0.2, random_state = 465) \n",
    "\n",
    "classifier = OneVsRestClassifier(SVC(kernel='linear'))\n",
    "y_score = classifier.fit(X_train_sub, y_train_sub).decision_function(X_test_sub)\n",
    "\n",
    "fpr = dict()\n",
    "tpr = dict()\n",
    "roc_auc = dict()\n",
    "for i in range(n_classes):\n",
    "    fpr[i], tpr[i], _ = roc_curve(y_test_sub[:, i], y_score[:, i])\n",
    "    roc_auc[i] = auc(fpr[i], tpr[i])\n",
    "\n",
    "print('Average AUC score: {}'.format((roc_auc[0]+roc_auc[1]+roc_auc[2])/3))"
   ]
  },
  {
   "cell_type": "markdown",
   "metadata": {},
   "source": [
    "## Feature Selection"
   ]
  },
  {
   "cell_type": "markdown",
   "metadata": {},
   "source": [
    "### SelectKBest: f_classif"
   ]
  },
  {
   "cell_type": "code",
   "execution_count": 47,
   "metadata": {},
   "outputs": [],
   "source": [
    "from sklearn.feature_selection import SelectKBest, f_classif\n",
    "\n",
    "y = df_cardio['NSP']\n",
    "X = df_cardio.drop('NSP',axis=1)"
   ]
  },
  {
   "cell_type": "code",
   "execution_count": 88,
   "metadata": {},
   "outputs": [],
   "source": [
    "def get_selectKbest_scores(feature_amount):\n",
    "    score = []\n",
    "    y = df_cardio['NSP']\n",
    "    X = df_cardio.drop('NSP',axis=1)\n",
    "    \n",
    "    for i in range(1,feature_amount+1):\n",
    "        \n",
    "        selector = SelectKBest(f_classif, k = i)\n",
    "\n",
    "        selector.fit(X, y)\n",
    "\n",
    "        X_new = selector.transform(X)\n",
    "\n",
    "        y_new = df_cardio['NSP']\n",
    "\n",
    "        X_train, X_test, y_train, y_test = train_test_split(X_new, y_new, test_size = 0.2, random_state = 465) \n",
    "                   \n",
    "        X_train_sub, X_test_sub, y_train_sub, y_test_sub = train_test_split(X_train, y_train, test_size = 0.2, \n",
    "                                                                            random_state = 465) \n",
    "                   \n",
    "        svc = SVC(kernel = 'linear')\n",
    "        svc.fit(X_train_sub, y_train_sub)\n",
    "        \n",
    "        score.append(cross_val_score(svc, X_test, y_test, cv=20).mean())\n",
    "        \n",
    "    #return score\n",
    "    plt.figure(figsize=(12, 6)) #visualize mean prediction errors in relation to k number\n",
    "    plt.plot(range(1,feature_amount+1), score, color='blue', linestyle='dashed', marker='o',  \n",
    "    markerfacecolor='blue', markersize=10)    \n",
    "    plt.title('Score vs Best Feature Count')  \n",
    "    plt.xlabel('Feature Count')  \n",
    "    plt.ylabel('Score')\n",
    "    "
   ]
  },
  {
   "cell_type": "code",
   "execution_count": 89,
   "metadata": {},
   "outputs": [
    {
     "data": {
      "image/png": "[encoded data removed]",
      "text/plain": [
       "<Figure size 864x432 with 1 Axes>"
      ]
     },
     "metadata": {
      "needs_background": "light"
     },
     "output_type": "display_data"
    }
   ],
   "source": [
    "get_selectKbest_scores(18)"
   ]
  },
  {
   "cell_type": "code",
   "execution_count": 48,
   "metadata": {
    "scrolled": true
   },
   "outputs": [
    {
     "name": "stdout",
     "output_type": "stream",
     "text": [
      "feature indices: [ 0  1  6  7  9 15 16]\n",
      "\n",
      "Accuracy of SVC on test set: 0.873\n",
      "\n",
      "0.8861471861471862\n"
     ]
    }
   ],
   "source": [
    "selector = SelectKBest(f_classif, k=7)\n",
    "\n",
    "selector.fit(X, y)\n",
    "\n",
    "X_new = selector.transform(X)\n",
    "\n",
    "X_new.shape\n",
    "print(\"feature indices: {}\\n\".format(selector.get_support(indices=True)))\n",
    "\n",
    "y = df_cardio['NSP']\n",
    "\n",
    "X_train, X_test, y_train, y_test = train_test_split(X_new, y, test_size = 0.2, random_state = 465) \n",
    "                   \n",
    "X_train_sub, X_test_sub, y_train_sub, y_test_sub = train_test_split(X_train, y_train, test_size = 0.2, random_state = 465) \n",
    "                   \n",
    "svc = SVC(kernel= 'linear')\n",
    "svc.fit(X_train_sub, y_train_sub)\n",
    "\n",
    "y_pred_svc = svc.predict(X_test)\n",
    "print('Accuracy of SVC on test set: {:.3f}\\n'.format(svc.score(X_test, y_test)))\n",
    "\n",
    "print(cross_val_score(svc, X_test, y_test, cv=20).mean())"
   ]
  },
  {
   "cell_type": "code",
   "execution_count": 49,
   "metadata": {},
   "outputs": [
    {
     "name": "stdout",
     "output_type": "stream",
     "text": [
      "Average AUC score: 0.9432312232230298\n"
     ]
    }
   ],
   "source": [
    "# Binarize the output\n",
    "y = label_binarize(y, classes=[1, 2, 3])\n",
    "n_classes = 3\n",
    "\n",
    "X_train, X_test, y_train, y_test = train_test_split(X, y, test_size=.2, random_state=0)\n",
    "\n",
    "X_train_sub, X_test_sub, y_train_sub, y_test_sub = train_test_split(X_train, y_train, test_size = 0.2, random_state = 465) \n",
    "\n",
    "classifier = OneVsRestClassifier(SVC(kernel='linear'))\n",
    "y_score = classifier.fit(X_train_sub, y_train_sub).decision_function(X_test_sub)\n",
    "\n",
    "fpr = dict()\n",
    "tpr = dict()\n",
    "roc_auc = dict()\n",
    "for i in range(n_classes):\n",
    "    fpr[i], tpr[i], _ = roc_curve(y_test_sub[:, i], y_score[:, i])\n",
    "    roc_auc[i] = auc(fpr[i], tpr[i])\n",
    "\n",
    "print('Average AUC score: {}'.format((roc_auc[0]+roc_auc[1]+roc_auc[2])/3))"
   ]
  },
  {
   "cell_type": "markdown",
   "metadata": {},
   "source": [
    "### L1 Based Feature Elimination"
   ]
  },
  {
   "cell_type": "code",
   "execution_count": 223,
   "metadata": {},
   "outputs": [],
   "source": [
    "from sklearn.svm import LinearSVC\n",
    "from sklearn.feature_selection import SelectFromModel\n",
    "\n",
    "y = df_cardio['NSP']\n",
    "X = df_cardio.drop('NSP',axis=1)"
   ]
  },
  {
   "cell_type": "code",
   "execution_count": 224,
   "metadata": {},
   "outputs": [
    {
     "name": "stdout",
     "output_type": "stream",
     "text": [
      "feature indices: [ 0  7  8  9 10 11 12 13 15 16]\n",
      "\n"
     ]
    }
   ],
   "source": [
    "lsvc = LinearSVC(C=0.01, penalty=\"l1\", dual=False).fit(X, y)\n",
    "model = SelectFromModel(lsvc, prefit=True)\n",
    "X_new = model.transform(X)\n",
    "\n",
    "print(\"feature indices: {}\\n\".format(model.get_support(indices=True)))"
   ]
  },
  {
   "cell_type": "code",
   "execution_count": 50,
   "metadata": {},
   "outputs": [
    {
     "name": "stdout",
     "output_type": "stream",
     "text": [
      "Accuracy of SVC classifier on test set: 0.883\n",
      "\n",
      "0.8814593301435407\n"
     ]
    }
   ],
   "source": [
    "y = df_cardio['NSP']\n",
    "X = df_cardio[['LB','ASTV','MSTV','ALTV','MLTV','Width','Max','Nmax','Median','Variance']]\n",
    "\n",
    "X_train, X_test, y_train, y_test = train_test_split(X, y, test_size = 0.2, random_state = 465) \n",
    "                   \n",
    "X_train_sub, X_test_sub, y_train_sub, y_test_sub = train_test_split(X_train, y_train, test_size = 0.2, random_state = 465) \n",
    "\n",
    "svc = SVC(kernel='linear')\n",
    "svc.fit(X_train_sub, y_train_sub)\n",
    "\n",
    "y_pred_svc = svc.predict(X_test)\n",
    "print('Accuracy of SVC classifier on test set: {:.3f}\\n'.format(svc.score(X_test, y_test)))\n",
    "\n",
    "print(cross_val_score(svc, X_test, y_test, cv=20).mean())\n"
   ]
  },
  {
   "cell_type": "code",
   "execution_count": 51,
   "metadata": {},
   "outputs": [
    {
     "name": "stdout",
     "output_type": "stream",
     "text": [
      "Average AUC score: 0.9446340158365487\n"
     ]
    }
   ],
   "source": [
    "# Binarize the output\n",
    "y = label_binarize(y, classes=[1, 2, 3])\n",
    "n_classes = 3\n",
    "\n",
    "X_train, X_test, y_train, y_test = train_test_split(X, y, test_size=.2, random_state=0)\n",
    "\n",
    "X_train_sub, X_test_sub, y_train_sub, y_test_sub = train_test_split(X_train, y_train, test_size = 0.2, random_state = 465) \n",
    "\n",
    "classifier = OneVsRestClassifier(SVC(kernel='linear'))\n",
    "y_score = classifier.fit(X_train_sub, y_train_sub).decision_function(X_test_sub)\n",
    "\n",
    "fpr = dict()\n",
    "tpr = dict()\n",
    "roc_auc = dict()\n",
    "for i in range(n_classes):\n",
    "    fpr[i], tpr[i], _ = roc_curve(y_test_sub[:, i], y_score[:, i])\n",
    "    roc_auc[i] = auc(fpr[i], tpr[i])\n",
    "\n",
    "print('Average AUC score: {}'.format((roc_auc[0]+roc_auc[1]+roc_auc[2])/3))"
   ]
  },
  {
   "cell_type": "markdown",
   "metadata": {},
   "source": [
    "### L2 Based Feature Elimination"
   ]
  },
  {
   "cell_type": "code",
   "execution_count": 226,
   "metadata": {},
   "outputs": [],
   "source": [
    "y = df_cardio['NSP']\n",
    "X = df_cardio.drop('NSP',axis=1)"
   ]
  },
  {
   "cell_type": "code",
   "execution_count": 227,
   "metadata": {},
   "outputs": [
    {
     "name": "stdout",
     "output_type": "stream",
     "text": [
      "feature indices: [ 0  2  8 15 17]\n",
      "\n"
     ]
    }
   ],
   "source": [
    "lsvc = LinearSVC(C=0.01, penalty=\"l2\", dual=False).fit(X, y)\n",
    "model = SelectFromModel(lsvc, prefit=True)\n",
    "X_new = model.transform(X)\n",
    "\n",
    "print(\"feature indices: {}\\n\".format(model.get_support(indices=True)))"
   ]
  },
  {
   "cell_type": "code",
   "execution_count": 52,
   "metadata": {
    "scrolled": true
   },
   "outputs": [
    {
     "name": "stdout",
     "output_type": "stream",
     "text": [
      "Accuracy of SVC on test set: 0.838\n",
      "\n",
      "0.8039359763043974\n"
     ]
    }
   ],
   "source": [
    "y = df_cardio['NSP']\n",
    "X = df_cardio[['LB','FM','MSTV','Median','Tendency']]\n",
    "\n",
    "X_train, X_test, y_train, y_test = train_test_split(X, y, test_size = 0.2, random_state = 465) \n",
    "                   \n",
    "X_train_sub, X_test_sub, y_train_sub, y_test_sub = train_test_split(X_train, y_train, test_size = 0.2, random_state = 465) \n",
    "\n",
    "svc = SVC(kernel='linear')\n",
    "svc.fit(X_train_sub, y_train_sub)\n",
    "\n",
    "y_pred_svc = svc.predict(X_test)\n",
    "print('Accuracy of SVC on test set: {:.3f}\\n'.format(svc.score(X_test, y_test)))\n",
    "\n",
    "print(cross_val_score(svc, X_test, y_test, cv=20).mean())"
   ]
  },
  {
   "cell_type": "code",
   "execution_count": 53,
   "metadata": {},
   "outputs": [
    {
     "name": "stdout",
     "output_type": "stream",
     "text": [
      "Average AUC score: 0.9068475210749254\n"
     ]
    }
   ],
   "source": [
    "# Binarize the output\n",
    "y = label_binarize(y, classes=[1, 2, 3])\n",
    "n_classes = 3\n",
    "\n",
    "X_train, X_test, y_train, y_test = train_test_split(X, y, test_size=.2, random_state=0)\n",
    "\n",
    "X_train_sub, X_test_sub, y_train_sub, y_test_sub = train_test_split(X_train, y_train, test_size = 0.2, random_state = 465) \n",
    "\n",
    "classifier = OneVsRestClassifier(SVC(kernel='linear'))\n",
    "y_score = classifier.fit(X_train_sub, y_train_sub).decision_function(X_test_sub)\n",
    "\n",
    "fpr = dict()\n",
    "tpr = dict()\n",
    "roc_auc = dict()\n",
    "for i in range(n_classes):\n",
    "    fpr[i], tpr[i], _ = roc_curve(y_test_sub[:, i], y_score[:, i])\n",
    "    roc_auc[i] = auc(fpr[i], tpr[i])\n",
    "\n",
    "print('Average AUC score: {}'.format((roc_auc[0]+roc_auc[1]+roc_auc[2])/3))\n"
   ]
  },
  {
   "cell_type": "markdown",
   "metadata": {},
   "source": [
    "## Final SVC Model"
   ]
  },
  {
   "cell_type": "code",
   "execution_count": 54,
   "metadata": {},
   "outputs": [
    {
     "name": "stdout",
     "output_type": "stream",
     "text": [
      "Accuracy of SVC on test set: 0.883\n",
      "\n",
      "Cross validation score: 0.8625\n",
      "\n",
      "Recall score: 0.8826291079812206\n",
      "\n",
      "--- 3.7035071849823 seconds ---\n"
     ]
    }
   ],
   "source": [
    "y = df_cardio['NSP']\n",
    "\n",
    "#X = df_cardio[['LB','AC','DP','ASTV','ALTV','Median','Variance']] #selectkbest\n",
    "\n",
    "X = df_cardio[['LB','ASTV','MSTV','ALTV','MLTV','Width','Max','Nmax','Median','Variance']] #L1\n",
    "\n",
    "#X = df_cardio[['LB','FM','MSTV','Median','Tendency']] #L2\n",
    "\n",
    "X_train, X_test, y_train, y_test = train_test_split(X, y, test_size = 0.2, random_state = 465) \n",
    "                   \n",
    "X_train_sub, X_test_sub, y_train_sub, y_test_sub = train_test_split(X_train, y_train, test_size = 0.2, random_state = 465) \n",
    "\n",
    "start_time = time.time()\n",
    "\n",
    "svc = SVC(kernel='linear')\n",
    "svc.fit(X_train_sub, y_train_sub)\n",
    "\n",
    "predict_train_svc = svc.predict(X_train)\n",
    "predict_test_svc = svc.predict(X_test)\n",
    "\n",
    "# Accuracy tables.\n",
    "table_train = pd.crosstab(y_train, predict_train_svc, margins=True)\n",
    "table_test = pd.crosstab(y_test, predict_test_svc, margins=True)\n",
    "\n",
    "y_pred_svc = svc.predict(X_test)\n",
    "print('Accuracy of SVC on test set: {:.3f}\\n'.format(svc.score(X_test, y_test)))\n",
    "\n",
    "print('Cross validation score: {:.4f}\\n'.format(cross_val_score(svc, X_test_sub, y_test_sub, cv=20).mean()))\n",
    "\n",
    "print('Recall score: {}\\n'.format(recall_score(y_test, y_pred_svc, average = 'micro')))\n",
    "\n",
    "print(\"--- %s seconds ---\" % (time.time() - start_time))"
   ]
  },
  {
   "cell_type": "code",
   "execution_count": 219,
   "metadata": {},
   "outputs": [
    {
     "name": "stdout",
     "output_type": "stream",
     "text": [
      "[1. 2. 3.]\n"
     ]
    }
   ],
   "source": [
    "print(np.unique(y_pred_svc))"
   ]
  },
  {
   "cell_type": "code",
   "execution_count": 220,
   "metadata": {
    "scrolled": true
   },
   "outputs": [
    {
     "name": "stdout",
     "output_type": "stream",
     "text": [
      "              precision    recall  f1-score   support\n",
      "\n",
      "         1.0       0.94      0.95      0.94       339\n",
      "         2.0       0.53      0.58      0.55        48\n",
      "         3.0       0.89      0.64      0.75        39\n",
      "\n",
      "    accuracy                           0.88       426\n",
      "   macro avg       0.79      0.73      0.75       426\n",
      "weighted avg       0.89      0.88      0.88       426\n",
      "\n"
     ]
    }
   ],
   "source": [
    "print(classification_report(y_test, y_pred_svc))"
   ]
  },
  {
   "cell_type": "markdown",
   "metadata": {},
   "source": [
    "- The precision is the ratio tp / (tp + fp) where tp is the number of true positives and fp the number of false positives. The precision is intuitively the ability of the classifier to not label a sample as positive if it is negative.\n",
    "- The recall is the ratio tp / (tp + fn) where tp is the number of true positives and fn the number of false negatives. The recall is intuitively the ability of the classifier to find all the positive samples.\n",
    "- The F-beta score can be interpreted as a weighted harmonic mean of the precision and recall, where an F-beta score reaches its best value at 1 and worst score at 0.\n",
    "- The F-beta score weights the recall more than the precision by a factor of beta. beta = 1.0 means recall and precision are equally important.\n",
    "- The support is the number of occurrences of each class in y_test."
   ]
  },
  {
   "cell_type": "code",
   "execution_count": 221,
   "metadata": {
    "scrolled": true
   },
   "outputs": [
    {
     "name": "stdout",
     "output_type": "stream",
     "text": [
      "Training set accuracy:\n",
      "AVG Percent Type I errors: 0.18121556655086501\n",
      "AVG Percent Type II errors: 0.20805058239156374\n",
      "\n",
      "Test set accuracy:\n",
      "AVG Percent Type I errors: 0.21420302876414443\n",
      "AVG Percent Type II errors: 0.27427955525300657\n"
     ]
    }
   ],
   "source": [
    "# Accuracy tables.\n",
    "table_train = pd.crosstab(y_train, predict_train_svc, margins=True)\n",
    "table_test = pd.crosstab(y_test, predict_test_svc, margins=True)\n",
    "\n",
    "train_tI_errors = ((1-(table_train.loc[1.0,1.0]/table_train.loc['All',1.0]))\n",
    "                   +(1-(table_train.loc[2.0,2.0]/table_train.loc['All',2.0]))\n",
    "                   +(1-(table_train.loc[3.0,3.0]/table_train.loc['All',3.0])))/3 \n",
    "\n",
    "train_tII_errors = ((1-(table_train.loc[1.0,1.0]/table_train.loc[1.0,'All']))\n",
    "                   +(1-(table_train.loc[2.0,2.0]/table_train.loc[2.0,'All']))\n",
    "                   +(1-(table_train.loc[3.0,3.0]/table_train.loc[3.0,'All'])))/3 \n",
    "\n",
    "test_tI_errors = ((1-(table_test.loc[1.0,1.0]/table_test.loc['All',1.0]))\n",
    "                   +(1-(table_test.loc[2.0,2.0]/table_test.loc['All',2.0]))\n",
    "                   +(1-(table_test.loc[3.0,3.0]/table_test.loc['All',3.0])))/3 \n",
    "\n",
    "test_tII_errors = ((1-(table_test.loc[1.0,1.0]/table_test.loc[1.0,'All']))\n",
    "                   +(1-(table_test.loc[2.0,2.0]/table_test.loc[2.0,'All']))\n",
    "                   +(1-(table_test.loc[3.0,3.0]/table_test.loc[3.0,'All'])))/3 \n",
    "print((\n",
    "    'Training set accuracy:\\n'\n",
    "    'AVG Percent Type I errors: {}\\n'\n",
    "    'AVG Percent Type II errors: {}\\n\\n'\n",
    "    'Test set accuracy:\\n'\n",
    "    'AVG Percent Type I errors: {}\\n'\n",
    "    'AVG Percent Type II errors: {}'\n",
    ").format(train_tI_errors, train_tII_errors, test_tI_errors, test_tII_errors))"
   ]
  },
  {
   "cell_type": "code",
   "execution_count": 222,
   "metadata": {},
   "outputs": [
    {
     "name": "stdout",
     "output_type": "stream",
     "text": [
      "Accuracy Differentials:\n",
      "Type I error difference: 0.03298746221327942\n",
      "\n",
      "Type II error difference: 0.06622897286144283\n",
      "\n"
     ]
    }
   ],
   "source": [
    "print((\n",
    "    'Accuracy Differentials:\\n'\n",
    "    'Type I error difference: {}\\n\\n'\n",
    "    'Type II error difference: {}\\n'\n",
    ").format(test_tI_errors - train_tI_errors, test_tII_errors - train_tII_errors))"
   ]
  },
  {
   "cell_type": "markdown",
   "metadata": {},
   "source": [
    "## ROC Curve"
   ]
  },
  {
   "cell_type": "code",
   "execution_count": 40,
   "metadata": {},
   "outputs": [],
   "source": [
    "y = df_cardio['NSP']\n",
    "\n",
    "#X = df_cardio[['LB','AC','DP','ASTV','ALTV','Median','Variance']] #selectkbest\n",
    "\n",
    "X = df_cardio[['LB','ASTV','MSTV','ALTV','MLTV','Width','Max','Nmax','Median','Variance']] #L1\n",
    "\n",
    "#X = df_cardio[['LB','FM','MSTV','Median','Tendency']] #L2\n"
   ]
  },
  {
   "cell_type": "code",
   "execution_count": 41,
   "metadata": {},
   "outputs": [
    {
     "data": {
      "image/png": "[encoded data removed]",
      "text/plain": [
       "<Figure size 432x288 with 1 Axes>"
      ]
     },
     "metadata": {
      "needs_background": "light"
     },
     "output_type": "display_data"
    }
   ],
   "source": [
    "# Binarize the output\n",
    "y = label_binarize(y, classes=[1, 2, 3])\n",
    "n_classes = 3\n",
    "\n",
    "X_train, X_test, y_train, y_test = train_test_split(X, y, test_size=.2, random_state=0)\n",
    "\n",
    "classifier = OneVsRestClassifier(SVC(kernel='linear'))\n",
    "y_score = classifier.fit(X, y).decision_function(X_test)\n",
    "\n",
    "fpr = dict()\n",
    "tpr = dict()\n",
    "roc_auc = dict()\n",
    "for i in range(n_classes):\n",
    "    fpr[i], tpr[i], _ = roc_curve(y_test[:, i], y_score[:, i])\n",
    "    roc_auc[i] = auc(fpr[i], tpr[i])\n",
    "colors = cycle(['blue', 'red', 'green'])\n",
    "for i, color in zip(range(n_classes), colors):\n",
    "    plt.plot(fpr[i], tpr[i], color=color,\n",
    "             label='ROC curve of class {0} (area = {1:0.2f})'\n",
    "             ''.format(i+1, roc_auc[i]))\n",
    "plt.plot([0, 1], [0, 1], 'k--')\n",
    "plt.xlim([-0.05, 1.0])\n",
    "plt.ylim([0.0, 1.05])\n",
    "plt.xlabel('False Positive Rate')\n",
    "plt.ylabel('True Positive Rate')\n",
    "plt.title('Receiver operating characteristic for multi-class data')\n",
    "plt.legend(loc=\"lower right\")\n",
    "plt.savefig('ROC_SVC.png')\n",
    "plt.show()"
   ]
  },
  {
   "cell_type": "code",
   "execution_count": 96,
   "metadata": {},
   "outputs": [
    {
     "name": "stdout",
     "output_type": "stream",
     "text": [
      "[1. 2. 3.]\n"
     ]
    }
   ],
   "source": [
    "print(np.unique(y_pred_svc))"
   ]
  },
  {
   "cell_type": "code",
   "execution_count": null,
   "metadata": {},
   "outputs": [],
   "source": []
  }
 ],
 "metadata": {
  "kernelspec": {
   "display_name": "Python 3",
   "language": "python",
   "name": "python3"
  },
  "language_info": {
   "codemirror_mode": {
    "name": "ipython",
    "version": 3
   },
   "file_extension": ".py",
   "mimetype": "text/x-python",
   "name": "python",
   "nbconvert_exporter": "python",
   "pygments_lexer": "ipython3",
   "version": "3.7.1"
  }
 },
 "nbformat": 4,
 "nbformat_minor": 2
}
