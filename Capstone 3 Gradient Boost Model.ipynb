{
 "cells": [
  {
   "cell_type": "code",
   "execution_count": 24,
   "metadata": {},
   "outputs": [],
   "source": [
    "import pandas as pd\n",
    "import numpy as np\n",
    "import matplotlib.pyplot as plt\n",
    "import subprocess\n",
    "import seaborn as sns\n",
    "from sklearn.model_selection import train_test_split, cross_val_score, cross_val_predict\n",
    "from itertools import cycle\n",
    "from sklearn import ensemble\n",
    "import time\n",
    "from sklearn.metrics import recall_score\n",
    "\n",
    "from sklearn.metrics import classification_report\n",
    "from sklearn.metrics import confusion_matrix\n",
    "from sklearn import svm, datasets\n",
    "from sklearn.metrics import roc_curve, auc\n",
    "from sklearn.model_selection import train_test_split\n",
    "from sklearn.preprocessing import label_binarize\n",
    "from sklearn.multiclass import OneVsRestClassifier\n",
    "from sklearn.svm import LinearSVC\n",
    "from scipy import interp\n",
    "import statsmodels.api as sm\n",
    "from sklearn.metrics import recall_score\n",
    "\n",
    "from sklearn.model_selection import ShuffleSplit\n",
    "from sklearn.utils import resample\n",
    "from sklearn.preprocessing import MinMaxScaler\n",
    "\n",
    "%matplotlib inline\n",
    "\n",
    "import warnings\n",
    "warnings.filterwarnings(\"ignore\")"
   ]
  },
  {
   "cell_type": "code",
   "execution_count": 17,
   "metadata": {},
   "outputs": [
    {
     "data": {
      "text/html": [
       "<div>\n",
       "<style scoped>\n",
       "    .dataframe tbody tr th:only-of-type {\n",
       "        vertical-align: middle;\n",
       "    }\n",
       "\n",
       "    .dataframe tbody tr th {\n",
       "        vertical-align: top;\n",
       "    }\n",
       "\n",
       "    .dataframe thead th {\n",
       "        text-align: right;\n",
       "    }\n",
       "</style>\n",
       "<table border=\"1\" class=\"dataframe\">\n",
       "  <thead>\n",
       "    <tr style=\"text-align: right;\">\n",
       "      <th></th>\n",
       "      <th>LB</th>\n",
       "      <th>AC</th>\n",
       "      <th>FM</th>\n",
       "      <th>UC</th>\n",
       "      <th>DL</th>\n",
       "      <th>DS</th>\n",
       "      <th>DP</th>\n",
       "      <th>ASTV</th>\n",
       "      <th>MSTV</th>\n",
       "      <th>ALTV</th>\n",
       "      <th>...</th>\n",
       "      <th>Min</th>\n",
       "      <th>Max</th>\n",
       "      <th>Nmax</th>\n",
       "      <th>Nzeros</th>\n",
       "      <th>Mode</th>\n",
       "      <th>Mean</th>\n",
       "      <th>Median</th>\n",
       "      <th>Variance</th>\n",
       "      <th>Tendency</th>\n",
       "      <th>NSP</th>\n",
       "    </tr>\n",
       "  </thead>\n",
       "  <tbody>\n",
       "    <tr>\n",
       "      <th>0</th>\n",
       "      <td>120.0</td>\n",
       "      <td>0.000</td>\n",
       "      <td>0.0</td>\n",
       "      <td>0.000</td>\n",
       "      <td>0.000</td>\n",
       "      <td>0.0</td>\n",
       "      <td>0.0</td>\n",
       "      <td>73.0</td>\n",
       "      <td>0.5</td>\n",
       "      <td>43.0</td>\n",
       "      <td>...</td>\n",
       "      <td>62.0</td>\n",
       "      <td>126.0</td>\n",
       "      <td>2.0</td>\n",
       "      <td>0.0</td>\n",
       "      <td>120.0</td>\n",
       "      <td>137.0</td>\n",
       "      <td>121.0</td>\n",
       "      <td>73.0</td>\n",
       "      <td>1.0</td>\n",
       "      <td>2.0</td>\n",
       "    </tr>\n",
       "    <tr>\n",
       "      <th>1</th>\n",
       "      <td>132.0</td>\n",
       "      <td>0.006</td>\n",
       "      <td>0.0</td>\n",
       "      <td>0.006</td>\n",
       "      <td>0.003</td>\n",
       "      <td>0.0</td>\n",
       "      <td>0.0</td>\n",
       "      <td>17.0</td>\n",
       "      <td>2.1</td>\n",
       "      <td>0.0</td>\n",
       "      <td>...</td>\n",
       "      <td>68.0</td>\n",
       "      <td>198.0</td>\n",
       "      <td>6.0</td>\n",
       "      <td>1.0</td>\n",
       "      <td>141.0</td>\n",
       "      <td>136.0</td>\n",
       "      <td>140.0</td>\n",
       "      <td>12.0</td>\n",
       "      <td>0.0</td>\n",
       "      <td>1.0</td>\n",
       "    </tr>\n",
       "    <tr>\n",
       "      <th>2</th>\n",
       "      <td>133.0</td>\n",
       "      <td>0.003</td>\n",
       "      <td>0.0</td>\n",
       "      <td>0.008</td>\n",
       "      <td>0.003</td>\n",
       "      <td>0.0</td>\n",
       "      <td>0.0</td>\n",
       "      <td>16.0</td>\n",
       "      <td>2.1</td>\n",
       "      <td>0.0</td>\n",
       "      <td>...</td>\n",
       "      <td>68.0</td>\n",
       "      <td>198.0</td>\n",
       "      <td>5.0</td>\n",
       "      <td>1.0</td>\n",
       "      <td>141.0</td>\n",
       "      <td>135.0</td>\n",
       "      <td>138.0</td>\n",
       "      <td>13.0</td>\n",
       "      <td>0.0</td>\n",
       "      <td>1.0</td>\n",
       "    </tr>\n",
       "    <tr>\n",
       "      <th>3</th>\n",
       "      <td>134.0</td>\n",
       "      <td>0.003</td>\n",
       "      <td>0.0</td>\n",
       "      <td>0.008</td>\n",
       "      <td>0.003</td>\n",
       "      <td>0.0</td>\n",
       "      <td>0.0</td>\n",
       "      <td>16.0</td>\n",
       "      <td>2.4</td>\n",
       "      <td>0.0</td>\n",
       "      <td>...</td>\n",
       "      <td>53.0</td>\n",
       "      <td>170.0</td>\n",
       "      <td>11.0</td>\n",
       "      <td>0.0</td>\n",
       "      <td>137.0</td>\n",
       "      <td>134.0</td>\n",
       "      <td>137.0</td>\n",
       "      <td>13.0</td>\n",
       "      <td>1.0</td>\n",
       "      <td>1.0</td>\n",
       "    </tr>\n",
       "    <tr>\n",
       "      <th>4</th>\n",
       "      <td>132.0</td>\n",
       "      <td>0.007</td>\n",
       "      <td>0.0</td>\n",
       "      <td>0.008</td>\n",
       "      <td>0.000</td>\n",
       "      <td>0.0</td>\n",
       "      <td>0.0</td>\n",
       "      <td>16.0</td>\n",
       "      <td>2.4</td>\n",
       "      <td>0.0</td>\n",
       "      <td>...</td>\n",
       "      <td>53.0</td>\n",
       "      <td>170.0</td>\n",
       "      <td>9.0</td>\n",
       "      <td>0.0</td>\n",
       "      <td>137.0</td>\n",
       "      <td>136.0</td>\n",
       "      <td>138.0</td>\n",
       "      <td>11.0</td>\n",
       "      <td>1.0</td>\n",
       "      <td>1.0</td>\n",
       "    </tr>\n",
       "  </tbody>\n",
       "</table>\n",
       "<p>5 rows × 22 columns</p>\n",
       "</div>"
      ],
      "text/plain": [
       "      LB     AC   FM     UC     DL   DS   DP  ASTV  MSTV  ALTV ...    Min  \\\n",
       "0  120.0  0.000  0.0  0.000  0.000  0.0  0.0  73.0   0.5  43.0 ...   62.0   \n",
       "1  132.0  0.006  0.0  0.006  0.003  0.0  0.0  17.0   2.1   0.0 ...   68.0   \n",
       "2  133.0  0.003  0.0  0.008  0.003  0.0  0.0  16.0   2.1   0.0 ...   68.0   \n",
       "3  134.0  0.003  0.0  0.008  0.003  0.0  0.0  16.0   2.4   0.0 ...   53.0   \n",
       "4  132.0  0.007  0.0  0.008  0.000  0.0  0.0  16.0   2.4   0.0 ...   53.0   \n",
       "\n",
       "     Max  Nmax  Nzeros   Mode   Mean  Median  Variance  Tendency  NSP  \n",
       "0  126.0   2.0     0.0  120.0  137.0   121.0      73.0       1.0  2.0  \n",
       "1  198.0   6.0     1.0  141.0  136.0   140.0      12.0       0.0  1.0  \n",
       "2  198.0   5.0     1.0  141.0  135.0   138.0      13.0       0.0  1.0  \n",
       "3  170.0  11.0     0.0  137.0  134.0   137.0      13.0       1.0  1.0  \n",
       "4  170.0   9.0     0.0  137.0  136.0   138.0      11.0       1.0  1.0  \n",
       "\n",
       "[5 rows x 22 columns]"
      ]
     },
     "execution_count": 17,
     "metadata": {},
     "output_type": "execute_result"
    }
   ],
   "source": [
    "df_cardio = pd.read_csv('Cardiotocography.csv', sep=',')\n",
    "\n",
    "df_cardio.head()"
   ]
  },
  {
   "cell_type": "code",
   "execution_count": 18,
   "metadata": {},
   "outputs": [
    {
     "data": {
      "text/html": [
       "<div>\n",
       "<style scoped>\n",
       "    .dataframe tbody tr th:only-of-type {\n",
       "        vertical-align: middle;\n",
       "    }\n",
       "\n",
       "    .dataframe tbody tr th {\n",
       "        vertical-align: top;\n",
       "    }\n",
       "\n",
       "    .dataframe thead th {\n",
       "        text-align: right;\n",
       "    }\n",
       "</style>\n",
       "<table border=\"1\" class=\"dataframe\">\n",
       "  <thead>\n",
       "    <tr style=\"text-align: right;\">\n",
       "      <th></th>\n",
       "      <th>LB</th>\n",
       "      <th>AC</th>\n",
       "      <th>FM</th>\n",
       "      <th>UC</th>\n",
       "      <th>DL</th>\n",
       "      <th>DS</th>\n",
       "      <th>DP</th>\n",
       "      <th>ASTV</th>\n",
       "      <th>MSTV</th>\n",
       "      <th>ALTV</th>\n",
       "      <th>...</th>\n",
       "      <th>Min</th>\n",
       "      <th>Max</th>\n",
       "      <th>Nmax</th>\n",
       "      <th>Nzeros</th>\n",
       "      <th>Mode</th>\n",
       "      <th>Mean</th>\n",
       "      <th>Median</th>\n",
       "      <th>Variance</th>\n",
       "      <th>Tendency</th>\n",
       "      <th>NSP</th>\n",
       "    </tr>\n",
       "  </thead>\n",
       "  <tbody>\n",
       "    <tr>\n",
       "      <th>2126</th>\n",
       "      <td>NaN</td>\n",
       "      <td>NaN</td>\n",
       "      <td>NaN</td>\n",
       "      <td>NaN</td>\n",
       "      <td>NaN</td>\n",
       "      <td>NaN</td>\n",
       "      <td>NaN</td>\n",
       "      <td>NaN</td>\n",
       "      <td>NaN</td>\n",
       "      <td>NaN</td>\n",
       "      <td>...</td>\n",
       "      <td>NaN</td>\n",
       "      <td>NaN</td>\n",
       "      <td>NaN</td>\n",
       "      <td>NaN</td>\n",
       "      <td>NaN</td>\n",
       "      <td>NaN</td>\n",
       "      <td>NaN</td>\n",
       "      <td>NaN</td>\n",
       "      <td>NaN</td>\n",
       "      <td>NaN</td>\n",
       "    </tr>\n",
       "    <tr>\n",
       "      <th>2127</th>\n",
       "      <td>NaN</td>\n",
       "      <td>NaN</td>\n",
       "      <td>NaN</td>\n",
       "      <td>NaN</td>\n",
       "      <td>0.000</td>\n",
       "      <td>0.000</td>\n",
       "      <td>0.000</td>\n",
       "      <td>NaN</td>\n",
       "      <td>NaN</td>\n",
       "      <td>NaN</td>\n",
       "      <td>...</td>\n",
       "      <td>NaN</td>\n",
       "      <td>NaN</td>\n",
       "      <td>NaN</td>\n",
       "      <td>NaN</td>\n",
       "      <td>NaN</td>\n",
       "      <td>NaN</td>\n",
       "      <td>NaN</td>\n",
       "      <td>NaN</td>\n",
       "      <td>NaN</td>\n",
       "      <td>NaN</td>\n",
       "    </tr>\n",
       "    <tr>\n",
       "      <th>2128</th>\n",
       "      <td>NaN</td>\n",
       "      <td>NaN</td>\n",
       "      <td>0.481</td>\n",
       "      <td>0.015</td>\n",
       "      <td>0.015</td>\n",
       "      <td>0.001</td>\n",
       "      <td>0.005</td>\n",
       "      <td>87.0</td>\n",
       "      <td>7.0</td>\n",
       "      <td>91.0</td>\n",
       "      <td>...</td>\n",
       "      <td>NaN</td>\n",
       "      <td>NaN</td>\n",
       "      <td>NaN</td>\n",
       "      <td>NaN</td>\n",
       "      <td>NaN</td>\n",
       "      <td>NaN</td>\n",
       "      <td>NaN</td>\n",
       "      <td>NaN</td>\n",
       "      <td>NaN</td>\n",
       "      <td>NaN</td>\n",
       "    </tr>\n",
       "  </tbody>\n",
       "</table>\n",
       "<p>3 rows × 22 columns</p>\n",
       "</div>"
      ],
      "text/plain": [
       "      LB  AC     FM     UC     DL     DS     DP  ASTV  MSTV  ALTV ...   Min  \\\n",
       "2126 NaN NaN    NaN    NaN    NaN    NaN    NaN   NaN   NaN   NaN ...   NaN   \n",
       "2127 NaN NaN    NaN    NaN  0.000  0.000  0.000   NaN   NaN   NaN ...   NaN   \n",
       "2128 NaN NaN  0.481  0.015  0.015  0.001  0.005  87.0   7.0  91.0 ...   NaN   \n",
       "\n",
       "      Max  Nmax  Nzeros  Mode  Mean  Median  Variance  Tendency  NSP  \n",
       "2126  NaN   NaN     NaN   NaN   NaN     NaN       NaN       NaN  NaN  \n",
       "2127  NaN   NaN     NaN   NaN   NaN     NaN       NaN       NaN  NaN  \n",
       "2128  NaN   NaN     NaN   NaN   NaN     NaN       NaN       NaN  NaN  \n",
       "\n",
       "[3 rows x 22 columns]"
      ]
     },
     "execution_count": 18,
     "metadata": {},
     "output_type": "execute_result"
    }
   ],
   "source": [
    "null_data = df_cardio[df_cardio.isnull().any(axis=1)]\n",
    "null_data"
   ]
  },
  {
   "cell_type": "code",
   "execution_count": 19,
   "metadata": {},
   "outputs": [],
   "source": [
    "df_cardio = df_cardio.dropna()"
   ]
  },
  {
   "cell_type": "code",
   "execution_count": 20,
   "metadata": {},
   "outputs": [],
   "source": [
    "df_cardio = df_cardio.drop(['Min','Mean','Mode'], axis=1)"
   ]
  },
  {
   "cell_type": "code",
   "execution_count": 21,
   "metadata": {
    "scrolled": true
   },
   "outputs": [
    {
     "data": {
      "image/png": "[encoded data removed]",
      "text/plain": [
       "<Figure size 432x288 with 1 Axes>"
      ]
     },
     "metadata": {
      "needs_background": "light"
     },
     "output_type": "display_data"
    }
   ],
   "source": [
    "df_cardio['NSP'].value_counts()[:].plot(kind='barh')\n",
    "plt.title('NSP',fontsize=20)\n",
    "plt.xlabel('Observation Count',fontsize=15)\n",
    "plt.ylabel('Class',fontsize=15)\n",
    "plt.savefig('target__distribution.png')"
   ]
  },
  {
   "cell_type": "markdown",
   "metadata": {},
   "source": [
    "## Train-Test Split"
   ]
  },
  {
   "cell_type": "code",
   "execution_count": 44,
   "metadata": {},
   "outputs": [],
   "source": [
    "y = df_cardio['NSP']\n",
    "X = df_cardio.drop('NSP',axis=1)\n",
    "\n",
    "X_train, X_test, y_train, y_test = train_test_split(X, y, test_size = 0.2, random_state = 465) "
   ]
  },
  {
   "cell_type": "markdown",
   "metadata": {},
   "source": [
    "## Train-Validation Split"
   ]
  },
  {
   "cell_type": "code",
   "execution_count": 45,
   "metadata": {},
   "outputs": [],
   "source": [
    "X_train_sub, X_test_sub, y_train_sub, y_test_sub = train_test_split(X_train, y_train, test_size = 0.2, random_state = 465) \n"
   ]
  },
  {
   "cell_type": "markdown",
   "metadata": {},
   "source": [
    "## Baseline GBRF Model"
   ]
  },
  {
   "cell_type": "code",
   "execution_count": 46,
   "metadata": {
    "scrolled": true
   },
   "outputs": [
    {
     "name": "stdout",
     "output_type": "stream",
     "text": [
      "Accuracy of gradient boost classifier on test set: 0.999\n",
      "\n",
      "Cross validation score: 0.9115304303539598\n",
      "\n",
      "Recall score: 0.9647887323943662\n",
      "\n",
      "--- 14.724570035934448 seconds ---\n"
     ]
    }
   ],
   "source": [
    "start_time = time.time()\n",
    "\n",
    "params = {'n_estimators': 500,\n",
    "          'max_depth': 6,\n",
    "          'loss': 'deviance',\n",
    "          'learning_rate': .1}\n",
    "\n",
    "# Initialize and fit the model.\n",
    "clf = ensemble.GradientBoostingClassifier(**params)\n",
    "clf.fit(X_train, y_train)\n",
    "\n",
    "y_pred_clf = clf.predict(X_test)\n",
    "print('Accuracy of gradient boost classifier on test set: {:.3f}\\n'.format(clf.score(X_train_sub, y_train_sub)))\n",
    "\n",
    "print('Cross validation score: {}\\n'.format(cross_val_score(clf, X_test_sub, y_test_sub, cv=10).mean()))\n",
    "\n",
    "print('Recall score: {}\\n'.format(recall_score(y_test, y_pred_clf, average = 'micro')))\n",
    "\n",
    "print(\"--- %s seconds ---\" % (time.time() - start_time))"
   ]
  },
  {
   "cell_type": "code",
   "execution_count": 47,
   "metadata": {},
   "outputs": [
    {
     "name": "stdout",
     "output_type": "stream",
     "text": [
      "[1. 2. 3.]\n"
     ]
    }
   ],
   "source": [
    "print(np.unique(y_pred_clf))"
   ]
  },
  {
   "cell_type": "code",
   "execution_count": 48,
   "metadata": {},
   "outputs": [
    {
     "name": "stdout",
     "output_type": "stream",
     "text": [
      "Average AUC score: 0.9845810000634594\n"
     ]
    }
   ],
   "source": [
    "# Binarize the output\n",
    "y = label_binarize(y, classes=[1, 2, 3])\n",
    "n_classes = 3\n",
    "\n",
    "X_train, X_test, y_train, y_test = train_test_split(X, y, test_size=.2, random_state=0)\n",
    "\n",
    "X_train_sub, X_test_sub, y_train_sub, y_test_sub = train_test_split(X_train, y_train, test_size = 0.2, random_state = 465) \n",
    "\n",
    "params = {'n_estimators': 500,\n",
    "          'max_depth': 6,\n",
    "          'loss': 'deviance',\n",
    "          'learning_rate': .1}\n",
    "\n",
    "classifier = OneVsRestClassifier(ensemble.GradientBoostingClassifier(**params))\n",
    "y_score = classifier.fit(X_train_sub, y_train_sub).decision_function(X_test_sub)\n",
    "\n",
    "fpr = dict()\n",
    "tpr = dict()\n",
    "roc_auc = dict()\n",
    "for i in range(n_classes):\n",
    "    fpr[i], tpr[i], _ = roc_curve(y_test_sub[:, i], y_score[:, i])\n",
    "    roc_auc[i] = auc(fpr[i], tpr[i])\n",
    "\n",
    "print('Average AUC score: {}'.format((roc_auc[0]+roc_auc[1]+roc_auc[2])/3))"
   ]
  },
  {
   "cell_type": "markdown",
   "metadata": {},
   "source": [
    "## Feature Selection"
   ]
  },
  {
   "cell_type": "markdown",
   "metadata": {},
   "source": [
    "### f_classif"
   ]
  },
  {
   "cell_type": "code",
   "execution_count": 33,
   "metadata": {},
   "outputs": [],
   "source": [
    "from sklearn.feature_selection import SelectKBest, f_classif\n",
    "\n",
    "y = df_cardio['NSP']\n",
    "X = df_cardio.drop('NSP',axis=1)"
   ]
  },
  {
   "cell_type": "code",
   "execution_count": 12,
   "metadata": {},
   "outputs": [],
   "source": [
    "def get_selectKbest_scores(feature_amount):\n",
    "    score = []\n",
    "    y = df_cardio['NSP']\n",
    "    X = df_cardio.drop('NSP',axis=1)\n",
    "    \n",
    "    for i in range(1,feature_amount+1):\n",
    "        \n",
    "        selector = SelectKBest(f_classif, k = i)\n",
    "\n",
    "        selector.fit(X, y)\n",
    "\n",
    "        X_new = selector.transform(X)\n",
    "\n",
    "        y_new = df_cardio['NSP']\n",
    "\n",
    "        X_train, X_test, y_train, y_test = train_test_split(X_new, y_new, test_size = 0.2, random_state = 465) \n",
    "                   \n",
    "        X_train_sub, X_test_sub, y_train_sub, y_test_sub = train_test_split(X_train, y_train, test_size = 0.2, \n",
    "                                                                            random_state = 465) \n",
    "                   \n",
    "        params = {'n_estimators': 500,\n",
    "          'max_depth': 6,\n",
    "          'loss': 'deviance',\n",
    "          'learning_rate': .1}\n",
    "\n",
    "        # Initialize and fit the model.\n",
    "        clf = ensemble.GradientBoostingClassifier(**params)\n",
    "        clf.fit(X_train_sub, y_train_sub)\n",
    "        \n",
    "        score.append(cross_val_score(clf, X_test, y_test, cv=20).mean())\n",
    "        \n",
    "    #return score\n",
    "    plt.figure(figsize=(12, 6)) #visualize mean prediction errors in relation to k number\n",
    "    plt.plot(range(1,feature_amount+1), score, color='blue', linestyle='dashed', marker='o',  \n",
    "    markerfacecolor='blue', markersize=10)    \n",
    "    plt.title('Score vs Best Feature Count')  \n",
    "    plt.xlabel('Feature Count')  \n",
    "    plt.ylabel('Score')"
   ]
  },
  {
   "cell_type": "code",
   "execution_count": 13,
   "metadata": {},
   "outputs": [
    {
     "data": {
      "image/png": "[encoded data removed]",
      "text/plain": [
       "<Figure size 864x432 with 1 Axes>"
      ]
     },
     "metadata": {
      "needs_background": "light"
     },
     "output_type": "display_data"
    }
   ],
   "source": [
    "get_selectKbest_scores(18)"
   ]
  },
  {
   "cell_type": "code",
   "execution_count": 36,
   "metadata": {},
   "outputs": [
    {
     "name": "stdout",
     "output_type": "stream",
     "text": [
      "feature indices: [ 0  1  6  7  8  9 15 16]\n",
      "\n",
      "Accuracy of gradient boost classifier on test set: 0.951\n",
      "\n",
      "AUC score: 0.8298950014788524\n",
      "\n",
      "Recall score: 0.95\n",
      "\n",
      "0.9418831168831169\n"
     ]
    }
   ],
   "source": [
    "selector = SelectKBest(f_classif, k=8)\n",
    "\n",
    "selector.fit(X, y)\n",
    "\n",
    "X_new = selector.transform(X)\n",
    "\n",
    "X_new.shape\n",
    "print(\"feature indices: {}\\n\".format(selector.get_support(indices=True)))\n",
    "\n",
    "y = df_cardio['NSP']\n",
    "\n",
    "X_train, X_test, y_train, y_test = train_test_split(X_new, y, test_size = 0.2, random_state = 465) \n",
    "                   \n",
    "X_train_sub, X_test_sub, y_train_sub, y_test_sub = train_test_split(X_train, y_train, test_size = 0.2, random_state = 465) \n",
    "                   \n",
    "params = {'n_estimators': 500,\n",
    "          'max_depth': 6,\n",
    "          'loss': 'deviance',\n",
    "          'learning_rate': .1}\n",
    "\n",
    "# Initialize and fit the model.\n",
    "clf = ensemble.GradientBoostingClassifier(**params)\n",
    "clf.fit(X_train_sub, y_train_sub)\n",
    "\n",
    "y_pred_clf = clf.predict(X_test_sub)\n",
    "print('Accuracy of gradient boost classifier on test set: {:.3f}\\n'.format(clf.score(X_test, y_test)))\n",
    "\n",
    "fpr, tpr, thresholds = roc_curve(y_test_sub, y_pred_clf, pos_label=2)\n",
    "print('AUC score: {}\\n'.format(auc(fpr, tpr)))\n",
    "\n",
    "print('Recall score: {}\\n'.format(recall_score(y_test_sub, y_pred_clf, average = 'micro')))\n",
    "\n",
    "\n",
    "print(cross_val_score(clf, X_test, y_test, cv=20).mean())"
   ]
  },
  {
   "cell_type": "code",
   "execution_count": 49,
   "metadata": {},
   "outputs": [],
   "source": [
    "y = df_cardio['NSP']\n",
    "X = df_cardio[['LB','AC','DP','ASTV','MSTV','ALTV','Median','Variance']]\n",
    "                   \n",
    "X_train, X_test, y_train, y_test = train_test_split(X, y, test_size = 0.2, random_state = 465) \n",
    "                   \n",
    "X_train_sub, X_test_sub, y_train_sub, y_test_sub = train_test_split(X_train, y_train, test_size = 0.2, random_state = 465) \n",
    "  "
   ]
  },
  {
   "cell_type": "code",
   "execution_count": 50,
   "metadata": {
    "scrolled": true
   },
   "outputs": [
    {
     "name": "stdout",
     "output_type": "stream",
     "text": [
      "Accuracy of gradient boost classifier on test set: 0.999\n",
      "\n",
      "Recall score: 0.95\n",
      "\n",
      "0.9169278895768833\n"
     ]
    }
   ],
   "source": [
    "params = {'n_estimators': 500,\n",
    "          'max_depth': 6,\n",
    "          'loss': 'deviance',\n",
    "          'learning_rate': .1}\n",
    "\n",
    "# Initialize and fit the model.\n",
    "clf = ensemble.GradientBoostingClassifier(**params)\n",
    "clf.fit(X_train_sub, y_train_sub)\n",
    "\n",
    "y_pred_clf = clf.predict(X_test_sub)\n",
    "print('Accuracy of gradient boost classifier on test set: {:.3f}\\n'.format(clf.score(X_train_sub, y_train_sub)))\n",
    "\n",
    "print('Recall score: {}\\n'.format(recall_score(y_test_sub, y_pred_clf, average = 'micro')))\n",
    "\n",
    "print(cross_val_score(clf, X_test_sub, y_test_sub, cv=20).mean())"
   ]
  },
  {
   "cell_type": "code",
   "execution_count": 51,
   "metadata": {},
   "outputs": [
    {
     "name": "stdout",
     "output_type": "stream",
     "text": [
      "Average AUC score: 0.9802663858382007\n"
     ]
    }
   ],
   "source": [
    "# Binarize the output\n",
    "y = label_binarize(y, classes=[1, 2, 3])\n",
    "n_classes = 3\n",
    "\n",
    "X_train, X_test, y_train, y_test = train_test_split(X, y, test_size=.2, random_state=0)\n",
    "\n",
    "X_train_sub, X_test_sub, y_train_sub, y_test_sub = train_test_split(X_train, y_train, test_size = 0.2, random_state = 465) \n",
    "\n",
    "params = {'n_estimators': 500,\n",
    "          'max_depth': 6,\n",
    "          'loss': 'deviance',\n",
    "          'learning_rate': .1}\n",
    "\n",
    "classifier = OneVsRestClassifier(ensemble.GradientBoostingClassifier(**params))\n",
    "y_score = classifier.fit(X_train_sub, y_train_sub).decision_function(X_test_sub)\n",
    "\n",
    "fpr = dict()\n",
    "tpr = dict()\n",
    "roc_auc = dict()\n",
    "for i in range(n_classes):\n",
    "    fpr[i], tpr[i], _ = roc_curve(y_test_sub[:, i], y_score[:, i])\n",
    "    roc_auc[i] = auc(fpr[i], tpr[i])\n",
    "\n",
    "print('Average AUC score: {}'.format((roc_auc[0]+roc_auc[1]+roc_auc[2])/3))"
   ]
  },
  {
   "cell_type": "markdown",
   "metadata": {},
   "source": [
    "## Feature Selection with Recursive Feature Elimination"
   ]
  },
  {
   "cell_type": "code",
   "execution_count": 123,
   "metadata": {},
   "outputs": [
    {
     "name": "stdout",
     "output_type": "stream",
     "text": [
      "Num Features: 17\n",
      "Selected Features: [ True  True  True  True  True False  True  True  True  True  True  True\n",
      "  True  True False  True  True  True]\n",
      "Feature Ranking: [1 1 1 1 1 3 1 1 1 1 1 1 1 1 2 1 1 1]\n"
     ]
    }
   ],
   "source": [
    "# Feature Extraction with RFE\n",
    "from sklearn.feature_selection import RFE\n",
    "\n",
    "array = df_cardio.values\n",
    "X = array[:,0:18]\n",
    "Y = array[:,18]\n",
    "# feature extraction\n",
    "\n",
    "params = {'n_estimators': 500,\n",
    "          'max_depth': 6,\n",
    "          'loss': 'deviance',\n",
    "          'learning_rate': .1}\n",
    "\n",
    "# Initialize and fit the model.\n",
    "clf = ensemble.GradientBoostingClassifier(**params)\n",
    "rfe = RFE(clf, 16)\n",
    "fit = rfe.fit(X, Y)\n",
    "print(\"Num Features: {}\".format(fit.n_features_+1))\n",
    "print(\"Selected Features: {}\".format(fit.support_))\n",
    "print(\"Feature Ranking: {}\".format(fit.ranking_))"
   ]
  },
  {
   "cell_type": "code",
   "execution_count": 121,
   "metadata": {},
   "outputs": [],
   "source": [
    "y = df_cardio['NSP']\n",
    "X = df_cardio.drop(['NSP','DS'],axis=1)\n",
    "                   \n",
    "X_train, X_test, y_train, y_test = train_test_split(X, y, test_size = 0.2, random_state = 465) \n",
    "                   \n",
    "X_train_sub, X_test_sub, y_train_sub, y_test_sub = train_test_split(X_train, y_train, test_size = 0.2, random_state = 465) \n",
    "  "
   ]
  },
  {
   "cell_type": "code",
   "execution_count": 122,
   "metadata": {},
   "outputs": [
    {
     "name": "stdout",
     "output_type": "stream",
     "text": [
      "Accuracy of gradient boost classifier on test set: 0.999\n",
      "\n",
      "0.9085001273236566\n"
     ]
    }
   ],
   "source": [
    "params = {'n_estimators': 500,\n",
    "          'max_depth': 6,\n",
    "          'loss': 'deviance',\n",
    "          'learning_rate': .1}\n",
    "\n",
    "# Initialize and fit the model.\n",
    "clf = ensemble.GradientBoostingClassifier(**params)\n",
    "clf.fit(X_train_sub, y_train_sub)\n",
    "\n",
    "y_pred_clf = clf.predict(X_test_sub)\n",
    "print('Accuracy of gradient boost classifier on test set: {:.3f}\\n'.format(clf.score(X_train_sub, y_train_sub)))\n",
    "\n",
    "print(cross_val_score(clf, X_test_sub, y_test_sub, cv=10).mean())"
   ]
  },
  {
   "cell_type": "code",
   "execution_count": 39,
   "metadata": {},
   "outputs": [],
   "source": [
    "y = df_cardio['NSP']\n",
    "X = df_cardio.drop(['NSP','DS','Nzeros'],axis=1)\n",
    "                   \n",
    "X_train, X_test, y_train, y_test = train_test_split(X, y, test_size = 0.2, random_state = 465) \n",
    "                   \n",
    "X_train_sub, X_test_sub, y_train_sub, y_test_sub = train_test_split(X_train, y_train, test_size = 0.2, random_state = 465) \n",
    "  "
   ]
  },
  {
   "cell_type": "code",
   "execution_count": 40,
   "metadata": {},
   "outputs": [
    {
     "name": "stdout",
     "output_type": "stream",
     "text": [
      "Accuracy of gradient boost classifier on test set: 0.999\n",
      "\n",
      "AUC score: 0.8356994971901804\n",
      "\n",
      "Recall score: 0.9529411764705882\n",
      "\n",
      "0.9055589508530684\n"
     ]
    }
   ],
   "source": [
    "params = {'n_estimators': 500,\n",
    "          'max_depth': 6,\n",
    "          'loss': 'deviance',\n",
    "          'learning_rate': .1}\n",
    "\n",
    "# Initialize and fit the model.\n",
    "clf = ensemble.GradientBoostingClassifier(**params)\n",
    "clf.fit(X_train_sub, y_train_sub)\n",
    "\n",
    "y_pred_clf = clf.predict(X_test_sub)\n",
    "print('Accuracy of gradient boost classifier on test set: {:.3f}\\n'.format(clf.score(X_train_sub, y_train_sub)))\n",
    "\n",
    "print('Recall score: {}\\n'.format(recall_score(y_test_sub, y_pred_clf, average = 'micro')))\n",
    "\n",
    "print(cross_val_score(clf, X_test_sub, y_test_sub, cv=10).mean())"
   ]
  },
  {
   "cell_type": "code",
   "execution_count": 43,
   "metadata": {},
   "outputs": [
    {
     "name": "stdout",
     "output_type": "stream",
     "text": [
      "Average AUC score: 0.9862838440356273\n"
     ]
    }
   ],
   "source": [
    "# Binarize the output\n",
    "y = label_binarize(y, classes=[1, 2, 3])\n",
    "n_classes = 3\n",
    "\n",
    "X_train, X_test, y_train, y_test = train_test_split(X, y, test_size=.2, random_state=0)\n",
    "\n",
    "X_train_sub, X_test_sub, y_train_sub, y_test_sub = train_test_split(X_train, y_train, test_size = 0.2, random_state = 465) \n",
    "\n",
    "params = {'n_estimators': 500,\n",
    "          'max_depth': 6,\n",
    "          'loss': 'deviance',\n",
    "          'learning_rate': .1}\n",
    "\n",
    "classifier = OneVsRestClassifier(ensemble.GradientBoostingClassifier(**params))\n",
    "y_score = classifier.fit(X_train_sub, y_train_sub).decision_function(X_test_sub)\n",
    "\n",
    "fpr = dict()\n",
    "tpr = dict()\n",
    "roc_auc = dict()\n",
    "for i in range(n_classes):\n",
    "    fpr[i], tpr[i], _ = roc_curve(y_test_sub[:, i], y_score[:, i])\n",
    "    roc_auc[i] = auc(fpr[i], tpr[i])\n",
    "\n",
    "print('Average AUC score: {}'.format((roc_auc[0]+roc_auc[1]+roc_auc[2])/3))"
   ]
  },
  {
   "cell_type": "markdown",
   "metadata": {},
   "source": [
    "## Feature Selection based on Importance"
   ]
  },
  {
   "cell_type": "markdown",
   "metadata": {},
   "source": [
    "### Measure: Importance Score"
   ]
  },
  {
   "cell_type": "code",
   "execution_count": 159,
   "metadata": {
    "scrolled": true
   },
   "outputs": [
    {
     "name": "stdout",
     "output_type": "stream",
     "text": [
      "Feature ranking:\n",
      "1. feature 7 (0.213688)\n",
      "2. feature 6 (0.146642)\n",
      "3. feature 8 (0.140586)\n",
      "4. feature 13 (0.115770)\n",
      "5. feature 5 (0.110974)\n",
      "6. feature 1 (0.047933)\n",
      "7. feature 0 (0.039282)\n",
      "8. feature 3 (0.039090)\n",
      "9. feature 12 (0.032703)\n",
      "10. feature 9 (0.032216)\n",
      "11. feature 10 (0.029334)\n",
      "12. feature 14 (0.019953)\n",
      "13. feature 11 (0.018414)\n",
      "14. feature 2 (0.009069)\n",
      "15. feature 4 (0.002501)\n",
      "16. feature 15 (0.001844)\n"
     ]
    },
    {
     "ename": "IndexError",
     "evalue": "index 16 is out of bounds for axis 0 with size 16",
     "output_type": "error",
     "traceback": [
      "\u001b[0;31m---------------------------------------------------------------------------\u001b[0m",
      "\u001b[0;31mIndexError\u001b[0m                                Traceback (most recent call last)",
      "\u001b[0;32m<ipython-input-159-887b205bfd96>\u001b[0m in \u001b[0;36m<module>\u001b[0;34m\u001b[0m\n\u001b[1;32m     14\u001b[0m \u001b[0;34m\u001b[0m\u001b[0m\n\u001b[1;32m     15\u001b[0m \u001b[0;32mfor\u001b[0m \u001b[0mf\u001b[0m \u001b[0;32min\u001b[0m \u001b[0mrange\u001b[0m\u001b[0;34m(\u001b[0m\u001b[0mX_train_sub\u001b[0m\u001b[0;34m.\u001b[0m\u001b[0mshape\u001b[0m\u001b[0;34m[\u001b[0m\u001b[0;36m1\u001b[0m\u001b[0;34m]\u001b[0m\u001b[0;34m)\u001b[0m\u001b[0;34m:\u001b[0m\u001b[0;34m\u001b[0m\u001b[0;34m\u001b[0m\u001b[0m\n\u001b[0;32m---> 16\u001b[0;31m     \u001b[0mprint\u001b[0m\u001b[0;34m(\u001b[0m\u001b[0;34m\"%d. feature %d (%f)\"\u001b[0m \u001b[0;34m%\u001b[0m \u001b[0;34m(\u001b[0m\u001b[0mf\u001b[0m \u001b[0;34m+\u001b[0m \u001b[0;36m1\u001b[0m\u001b[0;34m,\u001b[0m \u001b[0mindices\u001b[0m\u001b[0;34m[\u001b[0m\u001b[0mf\u001b[0m\u001b[0;34m]\u001b[0m\u001b[0;34m,\u001b[0m \u001b[0mimportances\u001b[0m\u001b[0;34m[\u001b[0m\u001b[0mindices\u001b[0m\u001b[0;34m[\u001b[0m\u001b[0mf\u001b[0m\u001b[0;34m]\u001b[0m\u001b[0;34m]\u001b[0m\u001b[0;34m)\u001b[0m\u001b[0;34m)\u001b[0m\u001b[0;34m\u001b[0m\u001b[0;34m\u001b[0m\u001b[0m\n\u001b[0m",
      "\u001b[0;31mIndexError\u001b[0m: index 16 is out of bounds for axis 0 with size 16"
     ]
    }
   ],
   "source": [
    "params = {'n_estimators': 500,\n",
    "          'max_depth': 6,\n",
    "          'loss': 'deviance',\n",
    "          'learning_rate': .1}\n",
    "\n",
    "# Initialize and fit the model.\n",
    "forest = ensemble.GradientBoostingClassifier(**params)\n",
    "forest.fit(X_train_sub, y_train_sub)\n",
    "\n",
    "importances = clf.feature_importances_\n",
    "indices = np.argsort(importances)[::-1]\n",
    "\n",
    "print(\"Feature ranking:\")\n",
    "\n",
    "for f in range(X_train_sub.shape[1]):\n",
    "    print(\"%d. feature %d (%f)\" % (f + 1, indices[f], importances[indices[f]]))"
   ]
  },
  {
   "cell_type": "code",
   "execution_count": 41,
   "metadata": {},
   "outputs": [],
   "source": [
    "y = df_cardio['NSP']\n",
    "X = df_cardio.drop(['NSP','Tendency'],axis=1)\n",
    "                   \n",
    "X_train, X_test, y_train, y_test = train_test_split(X, y, test_size = 0.2, random_state = 465) \n",
    "                   \n",
    "X_train_sub, X_test_sub, y_train_sub, y_test_sub = train_test_split(X_train, y_train, test_size = 0.2, random_state = 465) \n",
    " "
   ]
  },
  {
   "cell_type": "code",
   "execution_count": 42,
   "metadata": {},
   "outputs": [
    {
     "name": "stdout",
     "output_type": "stream",
     "text": [
      "Accuracy of gradient boost classifier on test set: 0.999\n",
      "\n",
      "AUC score: 0.830930198166223\n",
      "\n",
      "Recall score: 0.9470588235294117\n",
      "\n",
      "0.9055589508530684\n"
     ]
    }
   ],
   "source": [
    "params = {'n_estimators': 500,\n",
    "          'max_depth': 6,\n",
    "          'loss': 'deviance',\n",
    "          'learning_rate': .1}\n",
    "\n",
    "# Initialize and fit the model.\n",
    "clf = ensemble.GradientBoostingClassifier(**params)\n",
    "clf.fit(X_train_sub, y_train_sub)\n",
    "\n",
    "y_pred_clf = clf.predict(X_test_sub)\n",
    "print('Accuracy of gradient boost classifier on test set: {:.3f}\\n'.format(clf.score(X_train_sub, y_train_sub)))\n",
    "\n",
    "fpr, tpr, thresholds = roc_curve(y_test_sub, y_pred_clf, pos_label=2)\n",
    "print('AUC score: {}\\n'.format(auc(fpr, tpr)))\n",
    "\n",
    "print('Recall score: {}\\n'.format(recall_score(y_test_sub, y_pred_clf, average = 'micro')))\n",
    "\n",
    "print(cross_val_score(clf, X_test_sub, y_test_sub, cv=10).mean())"
   ]
  },
  {
   "cell_type": "markdown",
   "metadata": {},
   "source": [
    "### Measure: F-score"
   ]
  },
  {
   "cell_type": "code",
   "execution_count": 169,
   "metadata": {},
   "outputs": [
    {
     "data": {
      "image/png": "[encoded data removed]",
      "text/plain": [
       "<Figure size 432x288 with 1 Axes>"
      ]
     },
     "metadata": {
      "needs_background": "light"
     },
     "output_type": "display_data"
    }
   ],
   "source": [
    "from xgboost import XGBClassifier\n",
    "from matplotlib import pyplot\n",
    "from xgboost import plot_importance\n",
    "\n",
    "# fit model no training data\n",
    "model = XGBClassifier()\n",
    "model.fit(X_train_sub, y_train_sub)\n",
    "# plot feature importance\n",
    "plot_importance(model)\n",
    "plt.savefig('Feature_importance.png')\n",
    "pyplot.show()"
   ]
  },
  {
   "cell_type": "code",
   "execution_count": 52,
   "metadata": {},
   "outputs": [],
   "source": [
    "y = df_cardio['NSP']\n",
    "X = df_cardio.drop(['NSP','Tendency','Nzeros','DL','Nmax','DS'],axis=1)\n",
    "                   \n",
    "X_train, X_test, y_train, y_test = train_test_split(X, y, test_size = 0.2, random_state = 465) \n",
    "                   \n",
    "X_train_sub, X_test_sub, y_train_sub, y_test_sub = train_test_split(X_train, y_train, test_size = 0.2, random_state = 465) \n",
    " "
   ]
  },
  {
   "cell_type": "code",
   "execution_count": 53,
   "metadata": {
    "scrolled": true
   },
   "outputs": [
    {
     "name": "stdout",
     "output_type": "stream",
     "text": [
      "Accuracy of gradient boost classifier on test set: 0.999\n",
      "\n",
      "Recall score: 0.9529411764705882\n",
      "\n",
      "0.9117035905271198\n"
     ]
    }
   ],
   "source": [
    "params = {'n_estimators': 500,\n",
    "          'max_depth': 6,\n",
    "          'loss': 'deviance',\n",
    "          'learning_rate': .1}\n",
    "\n",
    "# Initialize and fit the model.\n",
    "clf = ensemble.GradientBoostingClassifier(**params)\n",
    "clf.fit(X_train_sub, y_train_sub)\n",
    "\n",
    "y_pred_clf = clf.predict(X_test_sub)\n",
    "print('Accuracy of gradient boost classifier on test set: {:.3f}\\n'.format(clf.score(X_train_sub, y_train_sub)))\n",
    "\n",
    "print('Recall score: {}\\n'.format(recall_score(y_test_sub, y_pred_clf, average = 'micro')))\n",
    "\n",
    "print(cross_val_score(clf, X_test_sub, y_test_sub, cv=10).mean())"
   ]
  },
  {
   "cell_type": "code",
   "execution_count": 54,
   "metadata": {},
   "outputs": [
    {
     "name": "stdout",
     "output_type": "stream",
     "text": [
      "Average AUC score: 0.9800611313451472\n"
     ]
    }
   ],
   "source": [
    "# Binarize the output\n",
    "y = label_binarize(y, classes=[1, 2, 3])\n",
    "n_classes = 3\n",
    "\n",
    "X_train, X_test, y_train, y_test = train_test_split(X, y, test_size=.2, random_state=0)\n",
    "\n",
    "X_train_sub, X_test_sub, y_train_sub, y_test_sub = train_test_split(X_train, y_train, test_size = 0.2, random_state = 465) \n",
    "\n",
    "params = {'n_estimators': 500,\n",
    "          'max_depth': 6,\n",
    "          'loss': 'deviance',\n",
    "          'learning_rate': .1}\n",
    "\n",
    "classifier = OneVsRestClassifier(ensemble.GradientBoostingClassifier(**params))\n",
    "y_score = classifier.fit(X_train_sub, y_train_sub).decision_function(X_test_sub)\n",
    "\n",
    "fpr = dict()\n",
    "tpr = dict()\n",
    "roc_auc = dict()\n",
    "for i in range(n_classes):\n",
    "    fpr[i], tpr[i], _ = roc_curve(y_test_sub[:, i], y_score[:, i])\n",
    "    roc_auc[i] = auc(fpr[i], tpr[i])\n",
    "\n",
    "print('Average AUC score: {}'.format((roc_auc[0]+roc_auc[1]+roc_auc[2])/3))"
   ]
  },
  {
   "cell_type": "markdown",
   "metadata": {},
   "source": [
    "## Changing the Tree Depth"
   ]
  },
  {
   "cell_type": "code",
   "execution_count": 229,
   "metadata": {},
   "outputs": [],
   "source": [
    "def get_gradtree(num_estimators,num_depth,num_rate):\n",
    "    params = {'n_estimators': num_estimators,\n",
    "          'max_depth': num_depth,\n",
    "          'learning_rate': num_rate,    \n",
    "          'loss': 'deviance'}\n",
    "\n",
    "    # Initialize and fit the model.\n",
    "    clf = ensemble.GradientBoostingClassifier(**params)\n",
    "    clf.fit(X_train_sub, y_train_sub)\n",
    "\n",
    "    y_pred_clf = clf.predict(X_test_sub)\n",
    "    print('Accuracy of GBRF classifier on test set: {:.2f}\\n'.format(clf.score(X_test_sub, y_test_sub)))\n",
    "\n",
    "    print('Cross_validation score of GBRF: {}\\n'.format(cross_val_score(clf, X_test_sub, y_test_sub, cv=10).mean()))"
   ]
  },
  {
   "cell_type": "code",
   "execution_count": 236,
   "metadata": {},
   "outputs": [],
   "source": [
    "y = df_cardio['NSP']\n",
    "X = df_cardio.drop(['NSP','Tendency','Nzeros','DL','Nmax','DS'],axis=1)\n",
    "                   \n",
    "X_train, X_test, y_train, y_test = train_test_split(X, y, test_size = 0.2, random_state = 465) \n",
    "                   \n",
    "X_train_sub, X_test_sub, y_train_sub, y_test_sub = train_test_split(X_train, y_train, test_size = 0.2, random_state = 465) \n",
    " "
   ]
  },
  {
   "cell_type": "code",
   "execution_count": 237,
   "metadata": {},
   "outputs": [
    {
     "name": "stdout",
     "output_type": "stream",
     "text": [
      "Accuracy of GBRF classifier on test set: 0.97\n",
      "\n",
      "Cross_validation score of GBRF: 0.9120550038197097\n",
      "\n"
     ]
    }
   ],
   "source": [
    "get_gradtree(500,2,.1)\n"
   ]
  },
  {
   "cell_type": "code",
   "execution_count": 231,
   "metadata": {},
   "outputs": [
    {
     "name": "stdout",
     "output_type": "stream",
     "text": [
      "Accuracy of GBRF classifier on test set: 0.95\n",
      "\n",
      "Cross_validation score of GBRF: 0.9151642475171886\n",
      "\n"
     ]
    }
   ],
   "source": [
    "get_gradtree(500,4,.1)\n"
   ]
  },
  {
   "cell_type": "code",
   "execution_count": 238,
   "metadata": {},
   "outputs": [
    {
     "name": "stdout",
     "output_type": "stream",
     "text": [
      "Accuracy of GBRF classifier on test set: 0.96\n",
      "\n",
      "Cross_validation score of GBRF: 0.9234733893557422\n",
      "\n"
     ]
    }
   ],
   "source": [
    "get_gradtree(500,6,.1)\n"
   ]
  },
  {
   "cell_type": "code",
   "execution_count": 239,
   "metadata": {},
   "outputs": [
    {
     "name": "stdout",
     "output_type": "stream",
     "text": [
      "Accuracy of GBRF classifier on test set: 0.95\n",
      "\n",
      "Cross_validation score of GBRF: 0.8997606315253373\n",
      "\n"
     ]
    }
   ],
   "source": [
    "get_gradtree(500,8,.1)\n"
   ]
  },
  {
   "cell_type": "markdown",
   "metadata": {},
   "source": [
    "## Change Number of Estimators"
   ]
  },
  {
   "cell_type": "code",
   "execution_count": 240,
   "metadata": {},
   "outputs": [],
   "source": [
    "y = df_cardio['NSP']\n",
    "X = df_cardio.drop(['NSP','Tendency','Nzeros','DL','Nmax','DS'],axis=1)\n",
    "                   \n",
    "X_train, X_test, y_train, y_test = train_test_split(X, y, test_size = 0.2, random_state = 465) \n",
    "                   \n",
    "X_train_sub, X_test_sub, y_train_sub, y_test_sub = train_test_split(X_train, y_train, test_size = 0.2, random_state = 465) \n",
    " "
   ]
  },
  {
   "cell_type": "code",
   "execution_count": 241,
   "metadata": {},
   "outputs": [
    {
     "name": "stdout",
     "output_type": "stream",
     "text": [
      "Accuracy of GBRF classifier on test set: 0.95\n",
      "\n",
      "Cross_validation score of GBRF: 0.9175910364145657\n",
      "\n"
     ]
    }
   ],
   "source": [
    "get_gradtree(250,6,.1)"
   ]
  },
  {
   "cell_type": "code",
   "execution_count": 242,
   "metadata": {},
   "outputs": [
    {
     "name": "stdout",
     "output_type": "stream",
     "text": [
      "Accuracy of GBRF classifier on test set: 0.95\n",
      "\n",
      "Cross_validation score of GBRF: 0.9205322128851542\n",
      "\n"
     ]
    }
   ],
   "source": [
    "get_gradtree(1000,6,.1)"
   ]
  },
  {
   "cell_type": "code",
   "execution_count": 243,
   "metadata": {},
   "outputs": [
    {
     "name": "stdout",
     "output_type": "stream",
     "text": [
      "Accuracy of GBRF classifier on test set: 0.95\n",
      "\n",
      "Cross_validation score of GBRF: 0.9175910364145657\n",
      "\n"
     ]
    }
   ],
   "source": [
    "get_gradtree(1500,6,.1)"
   ]
  },
  {
   "cell_type": "code",
   "execution_count": 245,
   "metadata": {},
   "outputs": [
    {
     "name": "stdout",
     "output_type": "stream",
     "text": [
      "Accuracy of GBRF classifier on test set: 0.96\n",
      "\n",
      "Cross_validation score of GBRF: 0.9204481792717086\n",
      "\n"
     ]
    }
   ],
   "source": [
    "get_gradtree(2000,6,.1)"
   ]
  },
  {
   "cell_type": "code",
   "execution_count": 246,
   "metadata": {},
   "outputs": [
    {
     "name": "stdout",
     "output_type": "stream",
     "text": [
      "Accuracy of GBRF classifier on test set: 0.95\n",
      "\n",
      "Cross_validation score of GBRF: 0.9145607333842627\n",
      "\n"
     ]
    }
   ],
   "source": [
    "get_gradtree(2500,6,.1)"
   ]
  },
  {
   "cell_type": "markdown",
   "metadata": {},
   "source": [
    "## Change Learning Rate"
   ]
  },
  {
   "cell_type": "code",
   "execution_count": 247,
   "metadata": {},
   "outputs": [],
   "source": [
    "y = df_cardio['NSP']\n",
    "X = df_cardio.drop(['NSP','Tendency','Nzeros','DL','Nmax','DS'],axis=1)\n",
    "                   \n",
    "X_train, X_test, y_train, y_test = train_test_split(X, y, test_size = 0.2, random_state = 465) \n",
    "                   \n",
    "X_train_sub, X_test_sub, y_train_sub, y_test_sub = train_test_split(X_train, y_train, test_size = 0.2, random_state = 465) \n",
    " "
   ]
  },
  {
   "cell_type": "code",
   "execution_count": 248,
   "metadata": {},
   "outputs": [
    {
     "name": "stdout",
     "output_type": "stream",
     "text": [
      "Accuracy of GBRF classifier on test set: 0.94\n",
      "\n",
      "Cross_validation score of GBRF: 0.9027960275019098\n",
      "\n"
     ]
    }
   ],
   "source": [
    "get_gradtree(1000,6,.001)"
   ]
  },
  {
   "cell_type": "code",
   "execution_count": 249,
   "metadata": {},
   "outputs": [
    {
     "name": "stdout",
     "output_type": "stream",
     "text": [
      "Accuracy of GBRF classifier on test set: 0.96\n",
      "\n",
      "Cross_validation score of GBRF: 0.914733893557423\n",
      "\n"
     ]
    }
   ],
   "source": [
    "get_gradtree(1000,6,.01)"
   ]
  },
  {
   "cell_type": "code",
   "execution_count": 250,
   "metadata": {},
   "outputs": [
    {
     "name": "stdout",
     "output_type": "stream",
     "text": [
      "Accuracy of GBRF classifier on test set: 0.96\n",
      "\n",
      "Cross_validation score of GBRF: 0.9146498599439775\n",
      "\n"
     ]
    }
   ],
   "source": [
    "get_gradtree(1000,6,.1)"
   ]
  },
  {
   "cell_type": "code",
   "execution_count": 256,
   "metadata": {},
   "outputs": [
    {
     "name": "stdout",
     "output_type": "stream",
     "text": [
      "Accuracy of GBRF classifier on test set: 0.95\n",
      "\n",
      "Cross_validation score of GBRF: 0.9235625159154571\n",
      "\n"
     ]
    }
   ],
   "source": [
    "get_gradtree(1000,6,.2)"
   ]
  },
  {
   "cell_type": "code",
   "execution_count": 255,
   "metadata": {},
   "outputs": [
    {
     "name": "stdout",
     "output_type": "stream",
     "text": [
      "Accuracy of GBRF classifier on test set: 0.95\n",
      "\n",
      "Cross_validation score of GBRF: 0.914644766997708\n",
      "\n"
     ]
    }
   ],
   "source": [
    "get_gradtree(1000,6,.3)"
   ]
  },
  {
   "cell_type": "markdown",
   "metadata": {},
   "source": [
    "# Final Gradient Tree Model"
   ]
  },
  {
   "cell_type": "code",
   "execution_count": 61,
   "metadata": {},
   "outputs": [
    {
     "name": "stdout",
     "output_type": "stream",
     "text": [
      "Accuracy of gradient boosted random forest on test set: 0.9648\n",
      "\n",
      "Cross validation score: 0.9301\n",
      "\n",
      "Recall score: 0.9647887323943662\n",
      "\n",
      "--- 35.93630409240723 seconds ---\n"
     ]
    }
   ],
   "source": [
    "y = df_cardio['NSP']\n",
    "\n",
    "X = df_cardio.drop(['NSP','Tendency','Nzeros','Nmax','DS','DL'],axis=1) #drop least important F-score features\n",
    "\n",
    "#X = df_cardio[['LB','AC','DP','ASTV','MSTV','ALTV','Median','Variance']] #selectKbest\n",
    "\n",
    "X_train, X_test, y_train, y_test = train_test_split(X, y, test_size = 0.2, random_state = 465) \n",
    "                   \n",
    "X_train_sub, X_test_sub, y_train_sub, y_test_sub = train_test_split(X_train, y_train, test_size = 0.2, random_state = 465) \n",
    " \n",
    "start_time = time.time()\n",
    "    \n",
    "params = {'n_estimators': 1000,\n",
    "          'max_depth': 6,\n",
    "          'loss': 'deviance',\n",
    "          'learning_rate': .2}\n",
    "\n",
    "# Initialize and fit the model.\n",
    "clf = ensemble.GradientBoostingClassifier(**params)\n",
    "clf.fit(X_train, y_train)\n",
    "\n",
    "predict_train_clf = clf.predict(X_train)\n",
    "predict_test_clf = clf.predict(X_test)\n",
    "\n",
    "# Accuracy tables.\n",
    "table_train = pd.crosstab(y_train, predict_train_clf, margins=True)\n",
    "table_test = pd.crosstab(y_test, predict_test_clf, margins=True)\n",
    "\n",
    "y_pred_clf = clf.predict(X_test)\n",
    "print('Accuracy of gradient boosted random forest on test set: {:.4f}\\n'.format(clf.score(X_test, y_test)))\n",
    "\n",
    "print('Cross validation score: {:.4f}\\n'.format(cross_val_score(clf, X_test, y_test, cv=20).mean()))\n",
    "\n",
    "print('Recall score: {}\\n'.format(recall_score(y_test, y_pred_clf, average = 'micro')))\n",
    "\n",
    "print(\"--- %s seconds ---\" % (time.time() - start_time))\n"
   ]
  },
  {
   "cell_type": "code",
   "execution_count": 20,
   "metadata": {},
   "outputs": [
    {
     "name": "stdout",
     "output_type": "stream",
     "text": [
      "[1. 2. 3.]\n"
     ]
    }
   ],
   "source": [
    "print(np.unique(y_pred_clf))"
   ]
  },
  {
   "cell_type": "code",
   "execution_count": 21,
   "metadata": {
    "scrolled": true
   },
   "outputs": [
    {
     "name": "stdout",
     "output_type": "stream",
     "text": [
      "              precision    recall  f1-score   support\n",
      "\n",
      "         1.0       0.97      1.00      0.98       339\n",
      "         2.0       0.93      0.83      0.88        48\n",
      "         3.0       0.97      0.85      0.90        39\n",
      "\n",
      "    accuracy                           0.96       426\n",
      "   macro avg       0.96      0.89      0.92       426\n",
      "weighted avg       0.96      0.96      0.96       426\n",
      "\n"
     ]
    }
   ],
   "source": [
    "print(classification_report(y_test, y_pred_clf))"
   ]
  },
  {
   "cell_type": "markdown",
   "metadata": {},
   "source": [
    "- The precision is the ratio tp / (tp + fp) where tp is the number of true positives and fp the number of false positives. The precision is intuitively the ability of the classifier to not label a sample as positive if it is negative.\n",
    "- The recall is the ratio tp / (tp + fn) where tp is the number of true positives and fn the number of false negatives. The recall is intuitively the ability of the classifier to find all the positive samples.\n",
    "- The F-beta score can be interpreted as a weighted harmonic mean of the precision and recall, where an F-beta score reaches its best value at 1 and worst score at 0.\n",
    "- The F-beta score weights the recall more than the precision by a factor of beta. beta = 1.0 means recall and precision are equally important.\n",
    "- The support is the number of occurrences of each class in y_test."
   ]
  },
  {
   "cell_type": "code",
   "execution_count": 22,
   "metadata": {},
   "outputs": [
    {
     "name": "stdout",
     "output_type": "stream",
     "text": [
      "Training set accuracy:\n",
      "AVG Percent Type I errors: 0.0016028204718014545\n",
      "AVG Percent Type II errors: 0.0016028204718014545\n",
      "\n",
      "Test set accuracy:\n",
      "AVG Percent Type I errors: 0.04356594373606045\n",
      "AVG Percent Type II errors: 0.10782089100673171\n"
     ]
    }
   ],
   "source": [
    "# Accuracy tables.\n",
    "table_train = pd.crosstab(y_train, predict_train_clf, margins=True)\n",
    "table_test = pd.crosstab(y_test, predict_test_clf, margins=True)\n",
    "\n",
    "train_tI_errors = ((1-(table_train.loc[1.0,1.0]/table_train.loc['All',1.0]))\n",
    "                   +(1-(table_train.loc[2.0,2.0]/table_train.loc['All',2.0]))\n",
    "                   +(1-(table_train.loc[3.0,3.0]/table_train.loc['All',3.0])))/3 \n",
    "\n",
    "train_tII_errors = ((1-(table_train.loc[1.0,1.0]/table_train.loc[1.0,'All']))\n",
    "                   +(1-(table_train.loc[2.0,2.0]/table_train.loc[2.0,'All']))\n",
    "                   +(1-(table_train.loc[3.0,3.0]/table_train.loc[3.0,'All'])))/3 \n",
    "\n",
    "test_tI_errors = ((1-(table_test.loc[1.0,1.0]/table_test.loc['All',1.0]))\n",
    "                   +(1-(table_test.loc[2.0,2.0]/table_test.loc['All',2.0]))\n",
    "                   +(1-(table_test.loc[3.0,3.0]/table_test.loc['All',3.0])))/3 \n",
    "\n",
    "test_tII_errors = ((1-(table_test.loc[1.0,1.0]/table_test.loc[1.0,'All']))\n",
    "                   +(1-(table_test.loc[2.0,2.0]/table_test.loc[2.0,'All']))\n",
    "                   +(1-(table_test.loc[3.0,3.0]/table_test.loc[3.0,'All'])))/3 \n",
    "print((\n",
    "    'Training set accuracy:\\n'\n",
    "    'AVG Percent Type I errors: {}\\n'\n",
    "    'AVG Percent Type II errors: {}\\n\\n'\n",
    "    'Test set accuracy:\\n'\n",
    "    'AVG Percent Type I errors: {}\\n'\n",
    "    'AVG Percent Type II errors: {}'\n",
    ").format(train_tI_errors, train_tII_errors, test_tI_errors, test_tII_errors))"
   ]
  },
  {
   "cell_type": "code",
   "execution_count": 23,
   "metadata": {},
   "outputs": [
    {
     "name": "stdout",
     "output_type": "stream",
     "text": [
      "Accuracy Differentials:\n",
      "Type I error difference: 0.041963123264258995\n",
      "\n",
      "Type II error difference: 0.10621807053493026\n",
      "\n"
     ]
    }
   ],
   "source": [
    "print((\n",
    "    'Accuracy Differentials:\\n'\n",
    "    'Type I error difference: {}\\n\\n'\n",
    "    'Type II error difference: {}\\n'\n",
    ").format(test_tI_errors - train_tI_errors, test_tII_errors - train_tII_errors))"
   ]
  },
  {
   "cell_type": "markdown",
   "metadata": {},
   "source": [
    "## ROC Curve"
   ]
  },
  {
   "cell_type": "code",
   "execution_count": 62,
   "metadata": {},
   "outputs": [],
   "source": [
    "y = df_cardio['NSP']\n",
    "\n",
    "X = df_cardio.drop(['NSP','Tendency','Nzeros','Nmax','DS','DL'],axis=1) #drop least important F-score features\n",
    "\n",
    "#X = df_cardio[['LB','AC','DP','ASTV','MSTV','ALTV','Median','Variance']] #selectKbest\n",
    "\n",
    "#X = df_cardio.drop(['NSP','DS','Nzeros'],axis=1) #Recursive feature elimination\n",
    "\n"
   ]
  },
  {
   "cell_type": "code",
   "execution_count": 63,
   "metadata": {},
   "outputs": [
    {
     "data": {
      "image/png": "[encoded data removed]",
      "text/plain": [
       "<Figure size 432x288 with 1 Axes>"
      ]
     },
     "metadata": {
      "needs_background": "light"
     },
     "output_type": "display_data"
    }
   ],
   "source": [
    "params = {'n_estimators': 1000,\n",
    "          'max_depth': 6,\n",
    "          'loss': 'deviance',\n",
    "          'learning_rate': .15}\n",
    "\n",
    "# Binarize the output\n",
    "y = label_binarize(y, classes=[1, 2, 3])\n",
    "n_classes = 3\n",
    "\n",
    "#X = scaler.fit_transform(X)\n",
    "X_train, X_test, y_train, y_test = train_test_split(X, y, test_size=.2, random_state=0)\n",
    "\n",
    "classifier = OneVsRestClassifier(ensemble.GradientBoostingClassifier(**params,random_state=0))\n",
    "y_score = classifier.fit(X_train, y_train).decision_function(X_test)\n",
    "\n",
    "fpr = dict()\n",
    "tpr = dict()\n",
    "roc_auc = dict()\n",
    "for i in range(n_classes):\n",
    "    fpr[i], tpr[i], _ = roc_curve(y_test[:, i], y_score[:, i])\n",
    "    roc_auc[i] = auc(fpr[i], tpr[i])\n",
    "colors = cycle(['blue', 'red', 'green'])\n",
    "for i, color in zip(range(n_classes), colors):\n",
    "    plt.plot(fpr[i], tpr[i], color=color,\n",
    "             label='ROC curve of class {0} (area = {1:0.2f})'\n",
    "             ''.format(i+1, roc_auc[i]))\n",
    "plt.plot([0, 1], [0, 1], 'k--')\n",
    "plt.xlim([-0.05, 1.0])\n",
    "plt.ylim([0.0, 1.05])\n",
    "plt.xlabel('False Positive Rate')\n",
    "plt.ylabel('True Positive Rate')\n",
    "plt.title('Receiver operating characteristic for multi-class data')\n",
    "plt.legend(loc=\"lower right\")\n",
    "plt.savefig('ROC_GradTree.png')\n",
    "plt.show()"
   ]
  },
  {
   "cell_type": "markdown",
   "metadata": {},
   "source": [
    "## Data Scaling"
   ]
  },
  {
   "cell_type": "code",
   "execution_count": 296,
   "metadata": {},
   "outputs": [
    {
     "name": "stdout",
     "output_type": "stream",
     "text": [
      "Accuracy of gradient boosted random forest on test set: 0.94\n",
      "\n",
      "0.9320985603543741\n"
     ]
    }
   ],
   "source": [
    "y = df_cardio['NSP']\n",
    "X = df_cardio.drop(['NSP','Tendency','Nzeros','Nmax','DS','DL'],axis=1)\n",
    "\n",
    "X_train, X_test, y_train, y_test = train_test_split(X, y, test_size = 0.2, random_state = 465) \n",
    "                   \n",
    "X_train_sub, X_test_sub, y_train_sub, y_test_sub = train_test_split(X_train, y_train, test_size = 0.2, random_state = 465) \n",
    "\n",
    "X_train = scaler.fit_transform(X_train)\n",
    "X_test = scaler.fit_transform(X_test)\n",
    "\n",
    "params = {'n_estimators': 1000,\n",
    "          'max_depth': 6,\n",
    "          'loss': 'deviance',\n",
    "          'learning_rate': .2}\n",
    "\n",
    "# Initialize and fit the model.\n",
    "clf = ensemble.GradientBoostingClassifier(**params)\n",
    "clf.fit(X_train, y_train)\n",
    "\n",
    "predict_train_clf = clf.predict(X_train)\n",
    "predict_test_clf = clf.predict(X_test)\n",
    "\n",
    "# Accuracy tables.\n",
    "table_train = pd.crosstab(y_train, predict_train_clf, margins=True)\n",
    "table_test = pd.crosstab(y_test, predict_test_clf, margins=True)\n",
    "\n",
    "y_pred_clf = clf.predict(X_test)\n",
    "print('Accuracy of gradient boosted random forest on test set: {:.2f}\\n'.format(clf.score(X_test, y_test)))\n",
    "\n",
    "print(cross_val_score(clf, X_test, y_test, cv=10).mean())"
   ]
  },
  {
   "cell_type": "code",
   "execution_count": 297,
   "metadata": {},
   "outputs": [
    {
     "name": "stdout",
     "output_type": "stream",
     "text": [
      "[1. 2. 3.]\n"
     ]
    }
   ],
   "source": [
    "print(np.unique(y_pred_clf))"
   ]
  },
  {
   "cell_type": "code",
   "execution_count": 298,
   "metadata": {},
   "outputs": [
    {
     "name": "stdout",
     "output_type": "stream",
     "text": [
      "              precision    recall  f1-score   support\n",
      "\n",
      "         1.0       0.97      0.96      0.97       339\n",
      "         2.0       0.72      0.81      0.76        48\n",
      "         3.0       0.97      0.85      0.90        39\n",
      "\n",
      "    accuracy                           0.94       426\n",
      "   macro avg       0.89      0.87      0.88       426\n",
      "weighted avg       0.94      0.94      0.94       426\n",
      "\n"
     ]
    }
   ],
   "source": [
    "print(classification_report(y_test, y_pred_clf))"
   ]
  },
  {
   "cell_type": "code",
   "execution_count": 299,
   "metadata": {},
   "outputs": [
    {
     "name": "stdout",
     "output_type": "stream",
     "text": [
      "Training set accuracy:\n",
      "AVG Percent Type I errors: 0.0026773761713520714\n",
      "AVG Percent Type II errors: 0.0005065856129686056\n",
      "\n",
      "Test set accuracy:\n",
      "AVG Percent Type I errors: 0.11324464039396169\n",
      "AVG Percent Type II errors: 0.12558146131154982\n"
     ]
    }
   ],
   "source": [
    "# Accuracy tables.\n",
    "table_train = pd.crosstab(y_train, predict_train_clf, margins=True)\n",
    "table_test = pd.crosstab(y_test, predict_test_clf, margins=True)\n",
    "\n",
    "train_tI_errors = ((1-(table_train.loc[1.0,1.0]/table_train.loc['All',1.0]))\n",
    "                   +(1-(table_train.loc[2.0,2.0]/table_train.loc['All',2.0]))\n",
    "                   +(1-(table_train.loc[3.0,3.0]/table_train.loc['All',3.0])))/3 \n",
    "\n",
    "train_tII_errors = ((1-(table_train.loc[1.0,1.0]/table_train.loc[1.0,'All']))\n",
    "                   +(1-(table_train.loc[2.0,2.0]/table_train.loc[2.0,'All']))\n",
    "                   +(1-(table_train.loc[3.0,3.0]/table_train.loc[3.0,'All'])))/3 \n",
    "\n",
    "test_tI_errors = ((1-(table_test.loc[1.0,1.0]/table_test.loc['All',1.0]))\n",
    "                   +(1-(table_test.loc[2.0,2.0]/table_test.loc['All',2.0]))\n",
    "                   +(1-(table_test.loc[3.0,3.0]/table_test.loc['All',3.0])))/3 \n",
    "\n",
    "test_tII_errors = ((1-(table_test.loc[1.0,1.0]/table_test.loc[1.0,'All']))\n",
    "                   +(1-(table_test.loc[2.0,2.0]/table_test.loc[2.0,'All']))\n",
    "                   +(1-(table_test.loc[3.0,3.0]/table_test.loc[3.0,'All'])))/3 \n",
    "print((\n",
    "    'Training set accuracy:\\n'\n",
    "    'AVG Percent Type I errors: {}\\n'\n",
    "    'AVG Percent Type II errors: {}\\n\\n'\n",
    "    'Test set accuracy:\\n'\n",
    "    'AVG Percent Type I errors: {}\\n'\n",
    "    'AVG Percent Type II errors: {}'\n",
    ").format(train_tI_errors, train_tII_errors, test_tI_errors, test_tII_errors))"
   ]
  },
  {
   "cell_type": "code",
   "execution_count": 300,
   "metadata": {
    "scrolled": true
   },
   "outputs": [
    {
     "name": "stdout",
     "output_type": "stream",
     "text": [
      "Accuracy Differentials:\n",
      "Type I error difference: 0.11056726422260962\n",
      "\n",
      "Type II error difference: 0.12507487569858122\n",
      "\n"
     ]
    }
   ],
   "source": [
    "print((\n",
    "    'Accuracy Differentials:\\n'\n",
    "    'Type I error difference: {}\\n\\n'\n",
    "    'Type II error difference: {}\\n'\n",
    ").format(test_tI_errors - train_tI_errors, test_tII_errors - train_tII_errors))"
   ]
  },
  {
   "cell_type": "markdown",
   "metadata": {},
   "source": [
    "## Upsampling the training data"
   ]
  },
  {
   "cell_type": "code",
   "execution_count": 303,
   "metadata": {},
   "outputs": [],
   "source": [
    "# Create training and test sets.\n",
    "offset = int(X.shape[0] * 0.8)\n",
    "\n",
    "# Put 90% of the data in the training set.\n",
    "df_train = df_cardio[:offset]\n",
    "\n",
    "# And put 10% in the test set.\n",
    "df_test = df_cardio[offset:]"
   ]
  },
  {
   "cell_type": "code",
   "execution_count": 304,
   "metadata": {},
   "outputs": [
    {
     "data": {
      "text/plain": [
       "3.0    1315\n",
       "2.0    1315\n",
       "1.0    1315\n",
       "Name: NSP, dtype: int64"
      ]
     },
     "execution_count": 304,
     "metadata": {},
     "output_type": "execute_result"
    }
   ],
   "source": [
    "# Separate majority and minority classes\n",
    "df_majority = df_train[df_train.NSP==1]\n",
    "df_minority_two = df_train[df_train.NSP==2]\n",
    "df_minority_three = df_train[df_train.NSP==3]\n",
    " \n",
    "# Upsample minority class\n",
    "df_minority_two_upsampled = resample(df_minority_two, \n",
    "                                 replace=True,     # sample with replacement\n",
    "                                 n_samples=1315,    # to match majority class\n",
    "                                 random_state=123) # reproducible results\n",
    "\n",
    "df_minority_three_upsampled = resample(df_minority_three, \n",
    "                                 replace=True,     # sample with replacement\n",
    "                                 n_samples=1315,    # to match majority class\n",
    "                                 random_state=123) # reproducible results\n",
    " \n",
    "# Combine majority class with upsampled minority class\n",
    "df_upsampled = pd.concat([df_majority, df_minority_two_upsampled,df_minority_three_upsampled])\n",
    " \n",
    "# Display new class counts\n",
    "df_upsampled.NSP.value_counts()"
   ]
  },
  {
   "cell_type": "code",
   "execution_count": 306,
   "metadata": {},
   "outputs": [
    {
     "name": "stdout",
     "output_type": "stream",
     "text": [
      "Accuracy of gradient boosted random forest on test set: 0.99\n",
      "\n",
      "0.9302989237465044\n"
     ]
    }
   ],
   "source": [
    "y = df_upsampled['NSP']\n",
    "X = df_upsampled.drop(['NSP','Tendency','Nzeros','Nmax','DS','DL'],axis=1)\n",
    "\n",
    "X_train, X_test, y_train, y_test = train_test_split(X, y, test_size = 0.2, random_state = 465) \n",
    "                   \n",
    "X_train_sub, X_test_sub, y_train_sub, y_test_sub = train_test_split(X_train, y_train, test_size = 0.2, random_state = 465) \n",
    " \n",
    "params = {'n_estimators': 1000,\n",
    "          'max_depth': 6,\n",
    "          'loss': 'deviance',\n",
    "          'learning_rate': .2}\n",
    "\n",
    "# Initialize and fit the model.\n",
    "clf = ensemble.GradientBoostingClassifier(**params)\n",
    "clf.fit(X_train_sub, y_train_sub)\n",
    "\n",
    "predict_train_clf = clf.predict(X_train_sub)\n",
    "predict_test_clf = clf.predict(X_test_sub)\n",
    "\n",
    "# Accuracy tables.\n",
    "table_train = pd.crosstab(y_train_sub, predict_train_clf, margins=True)\n",
    "table_test = pd.crosstab(y_test_sub, predict_test_clf, margins=True)\n",
    "\n",
    "y_pred_clf = clf.predict(X_test_sub)\n",
    "print('Accuracy of gradient boosted random forest on test set: {:.2f}\\n'.format(clf.score(X_test_sub, y_test_sub)))\n",
    "\n",
    "print(cross_val_score(clf, X_test_sub, y_test_sub, cv=10).mean())\n"
   ]
  },
  {
   "cell_type": "code",
   "execution_count": 307,
   "metadata": {},
   "outputs": [
    {
     "name": "stdout",
     "output_type": "stream",
     "text": [
      "[1. 2. 3.]\n"
     ]
    }
   ],
   "source": [
    "print(np.unique(y_pred_clf))"
   ]
  },
  {
   "cell_type": "code",
   "execution_count": 309,
   "metadata": {},
   "outputs": [
    {
     "name": "stdout",
     "output_type": "stream",
     "text": [
      "              precision    recall  f1-score   support\n",
      "\n",
      "         1.0       1.00      0.98      0.99       211\n",
      "         2.0       0.98      0.99      0.99       212\n",
      "         3.0       1.00      1.00      1.00       209\n",
      "\n",
      "    accuracy                           0.99       632\n",
      "   macro avg       0.99      0.99      0.99       632\n",
      "weighted avg       0.99      0.99      0.99       632\n",
      "\n"
     ]
    }
   ],
   "source": [
    "print(classification_report(y_test_sub, y_pred_clf))"
   ]
  },
  {
   "cell_type": "code",
   "execution_count": 311,
   "metadata": {},
   "outputs": [
    {
     "name": "stdout",
     "output_type": "stream",
     "text": [
      "Training set accuracy:\n",
      "AVG Percent Type I errors: 0.0004050222762251865\n",
      "AVG Percent Type II errors: 0.00039215686274511147\n",
      "\n",
      "Test set accuracy:\n",
      "AVG Percent Type I errors: 0.009420395284881256\n",
      "AVG Percent Type II errors: 0.009463769411904965\n"
     ]
    }
   ],
   "source": [
    "# Accuracy tables.\n",
    "table_train = pd.crosstab(y_train_sub, predict_train_clf, margins=True)\n",
    "table_test = pd.crosstab(y_test_sub, predict_test_clf, margins=True)\n",
    "\n",
    "train_tI_errors = ((1-(table_train.loc[1.0,1.0]/table_train.loc['All',1.0]))\n",
    "                   +(1-(table_train.loc[2.0,2.0]/table_train.loc['All',2.0]))\n",
    "                   +(1-(table_train.loc[3.0,3.0]/table_train.loc['All',3.0])))/3 \n",
    "\n",
    "train_tII_errors = ((1-(table_train.loc[1.0,1.0]/table_train.loc[1.0,'All']))\n",
    "                   +(1-(table_train.loc[2.0,2.0]/table_train.loc[2.0,'All']))\n",
    "                   +(1-(table_train.loc[3.0,3.0]/table_train.loc[3.0,'All'])))/3 \n",
    "\n",
    "test_tI_errors = ((1-(table_test.loc[1.0,1.0]/table_test.loc['All',1.0]))\n",
    "                   +(1-(table_test.loc[2.0,2.0]/table_test.loc['All',2.0]))\n",
    "                   +(1-(table_test.loc[3.0,3.0]/table_test.loc['All',3.0])))/3 \n",
    "\n",
    "test_tII_errors = ((1-(table_test.loc[1.0,1.0]/table_test.loc[1.0,'All']))\n",
    "                   +(1-(table_test.loc[2.0,2.0]/table_test.loc[2.0,'All']))\n",
    "                   +(1-(table_test.loc[3.0,3.0]/table_test.loc[3.0,'All'])))/3 \n",
    "print((\n",
    "    'Training set accuracy:\\n'\n",
    "    'AVG Percent Type I errors: {}\\n'\n",
    "    'AVG Percent Type II errors: {}\\n\\n'\n",
    "    'Test set accuracy:\\n'\n",
    "    'AVG Percent Type I errors: {}\\n'\n",
    "    'AVG Percent Type II errors: {}'\n",
    ").format(train_tI_errors, train_tII_errors, test_tI_errors, test_tII_errors))"
   ]
  },
  {
   "cell_type": "code",
   "execution_count": 312,
   "metadata": {},
   "outputs": [
    {
     "name": "stdout",
     "output_type": "stream",
     "text": [
      "Accuracy Differentials:\n",
      "Type I error difference: 0.009015373008656069\n",
      "\n",
      "Type II error difference: 0.009071612549159854\n",
      "\n"
     ]
    }
   ],
   "source": [
    "print((\n",
    "    'Accuracy Differentials:\\n'\n",
    "    'Type I error difference: {}\\n\\n'\n",
    "    'Type II error difference: {}\\n'\n",
    ").format(test_tI_errors - train_tI_errors, test_tII_errors - train_tII_errors))"
   ]
  },
  {
   "cell_type": "code",
   "execution_count": null,
   "metadata": {},
   "outputs": [],
   "source": []
  }
 ],
 "metadata": {
  "kernelspec": {
   "display_name": "Python 3",
   "language": "python",
   "name": "python3"
  },
  "language_info": {
   "codemirror_mode": {
    "name": "ipython",
    "version": 3
   },
   "file_extension": ".py",
   "mimetype": "text/x-python",
   "name": "python",
   "nbconvert_exporter": "python",
   "pygments_lexer": "ipython3",
   "version": "3.7.1"
  }
 },
 "nbformat": 4,
 "nbformat_minor": 2
}
